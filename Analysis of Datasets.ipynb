{
  "nbformat": 4,
  "nbformat_minor": 0,
  "metadata": {
    "colab": {
      "provenance": [],
      "collapsed_sections": [
        "djW5BXKoVjsM",
        "DboVrX7UYQeU",
        "-sdO1Lf1Y8Iu",
        "RdHgQMyIZGx8",
        "am1YHG0uKGom",
        "NSlx6ILnalH9",
        "n2MR2TCiask4",
        "H-GTxENmazBe",
        "4UfPRoGHZ4as",
        "enW1bnnUWcSM",
        "dbC1SwaIWLQn",
        "hXWHanbOU1jV"
      ]
    },
    "kernelspec": {
      "name": "python3",
      "display_name": "Python 3"
    },
    "language_info": {
      "name": "python"
    }
  },
  "cells": [
    {
      "cell_type": "markdown",
      "source": [
        " DATA PREPROCESSING ASSIGNMENT 2\n",
        "\n",
        "\n"
      ],
      "metadata": {
        "id": "GbfpVq5aa_Sv"
      }
    },
    {
      "cell_type": "code",
      "execution_count": null,
      "metadata": {
        "id": "LQVhuSieyWC3"
      },
      "outputs": [],
      "source": [
        "import matplotlib.pyplot as plt\n",
        "import numpy as np\n",
        "import pandas as pd"
      ]
    },
    {
      "cell_type": "markdown",
      "source": [
        "# **Analysis of iris.csv**"
      ],
      "metadata": {
        "id": "djW5BXKoVjsM"
      }
    },
    {
      "cell_type": "markdown",
      "source": [
        "### Q1 DATA PREPROCESSING"
      ],
      "metadata": {
        "id": "DboVrX7UYQeU"
      }
    },
    {
      "cell_type": "code",
      "source": [
        "df=pd.read_csv('/content/Iris.csv',index_col='Id')"
      ],
      "metadata": {
        "id": "_nhfeslay8gF"
      },
      "execution_count": null,
      "outputs": []
    },
    {
      "cell_type": "code",
      "source": [
        "df.describe()"
      ],
      "metadata": {
        "colab": {
          "base_uri": "https://localhost:8080/",
          "height": 300
        },
        "id": "Gwi178Q9zV5F",
        "outputId": "dd8c38dc-0da9-4f7c-bf91-d14a177bb118"
      },
      "execution_count": null,
      "outputs": [
        {
          "output_type": "execute_result",
          "data": {
            "text/plain": [
              "       SepalLengthCm  SepalWidthCm  PetalLengthCm  PetalWidthCm\n",
              "count     150.000000    150.000000     150.000000    150.000000\n",
              "mean        5.843333      3.054000       3.758667      1.198667\n",
              "std         0.828066      0.433594       1.764420      0.763161\n",
              "min         4.300000      2.000000       1.000000      0.100000\n",
              "25%         5.100000      2.800000       1.600000      0.300000\n",
              "50%         5.800000      3.000000       4.350000      1.300000\n",
              "75%         6.400000      3.300000       5.100000      1.800000\n",
              "max         7.900000      4.400000       6.900000      2.500000"
            ],
            "text/html": [
              "\n",
              "  <div id=\"df-50d6501d-a343-4c50-87a4-d631dd12b79f\" class=\"colab-df-container\">\n",
              "    <div>\n",
              "<style scoped>\n",
              "    .dataframe tbody tr th:only-of-type {\n",
              "        vertical-align: middle;\n",
              "    }\n",
              "\n",
              "    .dataframe tbody tr th {\n",
              "        vertical-align: top;\n",
              "    }\n",
              "\n",
              "    .dataframe thead th {\n",
              "        text-align: right;\n",
              "    }\n",
              "</style>\n",
              "<table border=\"1\" class=\"dataframe\">\n",
              "  <thead>\n",
              "    <tr style=\"text-align: right;\">\n",
              "      <th></th>\n",
              "      <th>SepalLengthCm</th>\n",
              "      <th>SepalWidthCm</th>\n",
              "      <th>PetalLengthCm</th>\n",
              "      <th>PetalWidthCm</th>\n",
              "    </tr>\n",
              "  </thead>\n",
              "  <tbody>\n",
              "    <tr>\n",
              "      <th>count</th>\n",
              "      <td>150.000000</td>\n",
              "      <td>150.000000</td>\n",
              "      <td>150.000000</td>\n",
              "      <td>150.000000</td>\n",
              "    </tr>\n",
              "    <tr>\n",
              "      <th>mean</th>\n",
              "      <td>5.843333</td>\n",
              "      <td>3.054000</td>\n",
              "      <td>3.758667</td>\n",
              "      <td>1.198667</td>\n",
              "    </tr>\n",
              "    <tr>\n",
              "      <th>std</th>\n",
              "      <td>0.828066</td>\n",
              "      <td>0.433594</td>\n",
              "      <td>1.764420</td>\n",
              "      <td>0.763161</td>\n",
              "    </tr>\n",
              "    <tr>\n",
              "      <th>min</th>\n",
              "      <td>4.300000</td>\n",
              "      <td>2.000000</td>\n",
              "      <td>1.000000</td>\n",
              "      <td>0.100000</td>\n",
              "    </tr>\n",
              "    <tr>\n",
              "      <th>25%</th>\n",
              "      <td>5.100000</td>\n",
              "      <td>2.800000</td>\n",
              "      <td>1.600000</td>\n",
              "      <td>0.300000</td>\n",
              "    </tr>\n",
              "    <tr>\n",
              "      <th>50%</th>\n",
              "      <td>5.800000</td>\n",
              "      <td>3.000000</td>\n",
              "      <td>4.350000</td>\n",
              "      <td>1.300000</td>\n",
              "    </tr>\n",
              "    <tr>\n",
              "      <th>75%</th>\n",
              "      <td>6.400000</td>\n",
              "      <td>3.300000</td>\n",
              "      <td>5.100000</td>\n",
              "      <td>1.800000</td>\n",
              "    </tr>\n",
              "    <tr>\n",
              "      <th>max</th>\n",
              "      <td>7.900000</td>\n",
              "      <td>4.400000</td>\n",
              "      <td>6.900000</td>\n",
              "      <td>2.500000</td>\n",
              "    </tr>\n",
              "  </tbody>\n",
              "</table>\n",
              "</div>\n",
              "    <div class=\"colab-df-buttons\">\n",
              "\n",
              "  <div class=\"colab-df-container\">\n",
              "    <button class=\"colab-df-convert\" onclick=\"convertToInteractive('df-50d6501d-a343-4c50-87a4-d631dd12b79f')\"\n",
              "            title=\"Convert this dataframe to an interactive table.\"\n",
              "            style=\"display:none;\">\n",
              "\n",
              "  <svg xmlns=\"http://www.w3.org/2000/svg\" height=\"24px\" viewBox=\"0 -960 960 960\">\n",
              "    <path d=\"M120-120v-720h720v720H120Zm60-500h600v-160H180v160Zm220 220h160v-160H400v160Zm0 220h160v-160H400v160ZM180-400h160v-160H180v160Zm440 0h160v-160H620v160ZM180-180h160v-160H180v160Zm440 0h160v-160H620v160Z\"/>\n",
              "  </svg>\n",
              "    </button>\n",
              "\n",
              "  <style>\n",
              "    .colab-df-container {\n",
              "      display:flex;\n",
              "      gap: 12px;\n",
              "    }\n",
              "\n",
              "    .colab-df-convert {\n",
              "      background-color: #E8F0FE;\n",
              "      border: none;\n",
              "      border-radius: 50%;\n",
              "      cursor: pointer;\n",
              "      display: none;\n",
              "      fill: #1967D2;\n",
              "      height: 32px;\n",
              "      padding: 0 0 0 0;\n",
              "      width: 32px;\n",
              "    }\n",
              "\n",
              "    .colab-df-convert:hover {\n",
              "      background-color: #E2EBFA;\n",
              "      box-shadow: 0px 1px 2px rgba(60, 64, 67, 0.3), 0px 1px 3px 1px rgba(60, 64, 67, 0.15);\n",
              "      fill: #174EA6;\n",
              "    }\n",
              "\n",
              "    .colab-df-buttons div {\n",
              "      margin-bottom: 4px;\n",
              "    }\n",
              "\n",
              "    [theme=dark] .colab-df-convert {\n",
              "      background-color: #3B4455;\n",
              "      fill: #D2E3FC;\n",
              "    }\n",
              "\n",
              "    [theme=dark] .colab-df-convert:hover {\n",
              "      background-color: #434B5C;\n",
              "      box-shadow: 0px 1px 3px 1px rgba(0, 0, 0, 0.15);\n",
              "      filter: drop-shadow(0px 1px 2px rgba(0, 0, 0, 0.3));\n",
              "      fill: #FFFFFF;\n",
              "    }\n",
              "  </style>\n",
              "\n",
              "    <script>\n",
              "      const buttonEl =\n",
              "        document.querySelector('#df-50d6501d-a343-4c50-87a4-d631dd12b79f button.colab-df-convert');\n",
              "      buttonEl.style.display =\n",
              "        google.colab.kernel.accessAllowed ? 'block' : 'none';\n",
              "\n",
              "      async function convertToInteractive(key) {\n",
              "        const element = document.querySelector('#df-50d6501d-a343-4c50-87a4-d631dd12b79f');\n",
              "        const dataTable =\n",
              "          await google.colab.kernel.invokeFunction('convertToInteractive',\n",
              "                                                    [key], {});\n",
              "        if (!dataTable) return;\n",
              "\n",
              "        const docLinkHtml = 'Like what you see? Visit the ' +\n",
              "          '<a target=\"_blank\" href=https://colab.research.google.com/notebooks/data_table.ipynb>data table notebook</a>'\n",
              "          + ' to learn more about interactive tables.';\n",
              "        element.innerHTML = '';\n",
              "        dataTable['output_type'] = 'display_data';\n",
              "        await google.colab.output.renderOutput(dataTable, element);\n",
              "        const docLink = document.createElement('div');\n",
              "        docLink.innerHTML = docLinkHtml;\n",
              "        element.appendChild(docLink);\n",
              "      }\n",
              "    </script>\n",
              "  </div>\n",
              "\n",
              "\n",
              "<div id=\"df-4c1a86de-494d-41ba-a282-53a5ac55f07b\">\n",
              "  <button class=\"colab-df-quickchart\" onclick=\"quickchart('df-4c1a86de-494d-41ba-a282-53a5ac55f07b')\"\n",
              "            title=\"Suggest charts.\"\n",
              "            style=\"display:none;\">\n",
              "\n",
              "<svg xmlns=\"http://www.w3.org/2000/svg\" height=\"24px\"viewBox=\"0 0 24 24\"\n",
              "     width=\"24px\">\n",
              "    <g>\n",
              "        <path d=\"M19 3H5c-1.1 0-2 .9-2 2v14c0 1.1.9 2 2 2h14c1.1 0 2-.9 2-2V5c0-1.1-.9-2-2-2zM9 17H7v-7h2v7zm4 0h-2V7h2v10zm4 0h-2v-4h2v4z\"/>\n",
              "    </g>\n",
              "</svg>\n",
              "  </button>\n",
              "\n",
              "<style>\n",
              "  .colab-df-quickchart {\n",
              "      --bg-color: #E8F0FE;\n",
              "      --fill-color: #1967D2;\n",
              "      --hover-bg-color: #E2EBFA;\n",
              "      --hover-fill-color: #174EA6;\n",
              "      --disabled-fill-color: #AAA;\n",
              "      --disabled-bg-color: #DDD;\n",
              "  }\n",
              "\n",
              "  [theme=dark] .colab-df-quickchart {\n",
              "      --bg-color: #3B4455;\n",
              "      --fill-color: #D2E3FC;\n",
              "      --hover-bg-color: #434B5C;\n",
              "      --hover-fill-color: #FFFFFF;\n",
              "      --disabled-bg-color: #3B4455;\n",
              "      --disabled-fill-color: #666;\n",
              "  }\n",
              "\n",
              "  .colab-df-quickchart {\n",
              "    background-color: var(--bg-color);\n",
              "    border: none;\n",
              "    border-radius: 50%;\n",
              "    cursor: pointer;\n",
              "    display: none;\n",
              "    fill: var(--fill-color);\n",
              "    height: 32px;\n",
              "    padding: 0;\n",
              "    width: 32px;\n",
              "  }\n",
              "\n",
              "  .colab-df-quickchart:hover {\n",
              "    background-color: var(--hover-bg-color);\n",
              "    box-shadow: 0 1px 2px rgba(60, 64, 67, 0.3), 0 1px 3px 1px rgba(60, 64, 67, 0.15);\n",
              "    fill: var(--button-hover-fill-color);\n",
              "  }\n",
              "\n",
              "  .colab-df-quickchart-complete:disabled,\n",
              "  .colab-df-quickchart-complete:disabled:hover {\n",
              "    background-color: var(--disabled-bg-color);\n",
              "    fill: var(--disabled-fill-color);\n",
              "    box-shadow: none;\n",
              "  }\n",
              "\n",
              "  .colab-df-spinner {\n",
              "    border: 2px solid var(--fill-color);\n",
              "    border-color: transparent;\n",
              "    border-bottom-color: var(--fill-color);\n",
              "    animation:\n",
              "      spin 1s steps(1) infinite;\n",
              "  }\n",
              "\n",
              "  @keyframes spin {\n",
              "    0% {\n",
              "      border-color: transparent;\n",
              "      border-bottom-color: var(--fill-color);\n",
              "      border-left-color: var(--fill-color);\n",
              "    }\n",
              "    20% {\n",
              "      border-color: transparent;\n",
              "      border-left-color: var(--fill-color);\n",
              "      border-top-color: var(--fill-color);\n",
              "    }\n",
              "    30% {\n",
              "      border-color: transparent;\n",
              "      border-left-color: var(--fill-color);\n",
              "      border-top-color: var(--fill-color);\n",
              "      border-right-color: var(--fill-color);\n",
              "    }\n",
              "    40% {\n",
              "      border-color: transparent;\n",
              "      border-right-color: var(--fill-color);\n",
              "      border-top-color: var(--fill-color);\n",
              "    }\n",
              "    60% {\n",
              "      border-color: transparent;\n",
              "      border-right-color: var(--fill-color);\n",
              "    }\n",
              "    80% {\n",
              "      border-color: transparent;\n",
              "      border-right-color: var(--fill-color);\n",
              "      border-bottom-color: var(--fill-color);\n",
              "    }\n",
              "    90% {\n",
              "      border-color: transparent;\n",
              "      border-bottom-color: var(--fill-color);\n",
              "    }\n",
              "  }\n",
              "</style>\n",
              "\n",
              "  <script>\n",
              "    async function quickchart(key) {\n",
              "      const quickchartButtonEl =\n",
              "        document.querySelector('#' + key + ' button');\n",
              "      quickchartButtonEl.disabled = true;  // To prevent multiple clicks.\n",
              "      quickchartButtonEl.classList.add('colab-df-spinner');\n",
              "      try {\n",
              "        const charts = await google.colab.kernel.invokeFunction(\n",
              "            'suggestCharts', [key], {});\n",
              "      } catch (error) {\n",
              "        console.error('Error during call to suggestCharts:', error);\n",
              "      }\n",
              "      quickchartButtonEl.classList.remove('colab-df-spinner');\n",
              "      quickchartButtonEl.classList.add('colab-df-quickchart-complete');\n",
              "    }\n",
              "    (() => {\n",
              "      let quickchartButtonEl =\n",
              "        document.querySelector('#df-4c1a86de-494d-41ba-a282-53a5ac55f07b button');\n",
              "      quickchartButtonEl.style.display =\n",
              "        google.colab.kernel.accessAllowed ? 'block' : 'none';\n",
              "    })();\n",
              "  </script>\n",
              "</div>\n",
              "    </div>\n",
              "  </div>\n"
            ]
          },
          "metadata": {},
          "execution_count": 175
        }
      ]
    },
    {
      "cell_type": "code",
      "source": [
        "df.info()"
      ],
      "metadata": {
        "colab": {
          "base_uri": "https://localhost:8080/"
        },
        "id": "Az7HO-wS3veQ",
        "outputId": "8616186e-e509-4a5a-eb01-eb9ec9b8e6cf"
      },
      "execution_count": null,
      "outputs": [
        {
          "output_type": "stream",
          "name": "stdout",
          "text": [
            "<class 'pandas.core.frame.DataFrame'>\n",
            "Int64Index: 150 entries, 1 to 150\n",
            "Data columns (total 5 columns):\n",
            " #   Column         Non-Null Count  Dtype  \n",
            "---  ------         --------------  -----  \n",
            " 0   SepalLengthCm  150 non-null    float64\n",
            " 1   SepalWidthCm   150 non-null    float64\n",
            " 2   PetalLengthCm  150 non-null    float64\n",
            " 3   PetalWidthCm   150 non-null    float64\n",
            " 4   Species        150 non-null    object \n",
            "dtypes: float64(4), object(1)\n",
            "memory usage: 7.0+ KB\n"
          ]
        }
      ]
    },
    {
      "cell_type": "code",
      "source": [
        "median_SL=df['SepalLengthCm'].median()\n",
        "print('Median:',median_SL)\n",
        "mode_SL=df['SepalLengthCm'].mode()[0]\n",
        "print('Mode:',mode_SL)\n",
        "var_SL=df['SepalLengthCm'].var()\n",
        "print('Variance:',var_SL)\n",
        "std_SL=df['SepalLengthCm'].std()\n",
        "print('Standard Deviation:',std_SL)"
      ],
      "metadata": {
        "colab": {
          "base_uri": "https://localhost:8080/"
        },
        "id": "WZhsQnFu3_sA",
        "outputId": "18b74baa-1584-4fd9-bf7e-852e72f51e03"
      },
      "execution_count": null,
      "outputs": [
        {
          "output_type": "stream",
          "name": "stdout",
          "text": [
            "Median: 5.8\n",
            "Mode: 5.0\n",
            "Variance: 0.6856935123042507\n",
            "Standard Deviation: 0.828066127977863\n"
          ]
        }
      ]
    },
    {
      "cell_type": "code",
      "source": [
        "median_SW=df['SepalWidthCm'].median()\n",
        "print('Median:',median_SW)\n",
        "mode_SW=df['SepalWidthCm'].mode()[0]\n",
        "print('Mode:',mode_SW)\n",
        "var_SW=df['SepalWidthCm'].var()\n",
        "print('Variance:',var_SW)\n",
        "std_SW=df['SepalWidthCm'].std()\n",
        "print('Standard Deviation:',std_SW)"
      ],
      "metadata": {
        "colab": {
          "base_uri": "https://localhost:8080/"
        },
        "id": "amhZxMGv40uv",
        "outputId": "c8826903-a756-4b2c-f954-07caebc291fb"
      },
      "execution_count": null,
      "outputs": [
        {
          "output_type": "stream",
          "name": "stdout",
          "text": [
            "Median: 3.0\n",
            "Mode: 3.0\n",
            "Variance: 0.1880040268456376\n",
            "Standard Deviation: 0.4335943113621737\n"
          ]
        }
      ]
    },
    {
      "cell_type": "code",
      "source": [
        "median_PL=df['PetalLengthCm'].median()\n",
        "print('Median:',median_PL)\n",
        "mode_PL=df['PetalLengthCm'].mode()[0]\n",
        "print('Mode:',mode_PL)\n",
        "var_PL=df['PetalLengthCm'].var()\n",
        "print('Variance:',var_PL)\n",
        "std_PL=df['PetalLengthCm'].std()\n",
        "print('Standard Deviation:',std_PL)"
      ],
      "metadata": {
        "colab": {
          "base_uri": "https://localhost:8080/"
        },
        "id": "cQ32X6Ml5L8D",
        "outputId": "c30ccc3e-1112-4c1d-8855-c528c4c3242a"
      },
      "execution_count": null,
      "outputs": [
        {
          "output_type": "stream",
          "name": "stdout",
          "text": [
            "Median: 4.35\n",
            "Mode: 1.5\n",
            "Variance: 3.113179418344519\n",
            "Standard Deviation: 1.7644204199522626\n"
          ]
        }
      ]
    },
    {
      "cell_type": "code",
      "source": [
        "median_SL=df['PetalWidthCm'].median()\n",
        "print('Median:',median_SL)\n",
        "mode_SL=df['PetalWidthCm'].mode()[0]\n",
        "print('Mode:',mode_SL)\n",
        "var_SL=df['PetalWidthCm'].var()\n",
        "print('Variance:',var_SL)\n",
        "std_SL=df['PetalWidthCm'].std()\n",
        "print('Standard Deviation:',std_SL)"
      ],
      "metadata": {
        "colab": {
          "base_uri": "https://localhost:8080/"
        },
        "id": "W02aH5zECOnq",
        "outputId": "cfdd04f8-817b-4220-f1ba-93e4e696ba7c"
      },
      "execution_count": null,
      "outputs": [
        {
          "output_type": "stream",
          "name": "stdout",
          "text": [
            "Median: 1.3\n",
            "Mode: 0.2\n",
            "Variance: 0.582414317673378\n",
            "Standard Deviation: 0.7631607417008411\n"
          ]
        }
      ]
    },
    {
      "cell_type": "code",
      "source": [
        "# calculate IQR\n",
        "Q1 = df['SepalLengthCm'].quantile(0.25)\n",
        "Q3 = df['SepalLengthCm'].quantile(0.75)\n",
        "IQR = Q3 - Q1\n",
        "# identify outliers\n",
        "threshold = 1.5\n",
        "outliers = df[(df['SepalLengthCm'] < Q1 - threshold * IQR) | (df['SepalLengthCm'] > Q3 + threshold * IQR)]\n",
        "print(outliers['SepalLengthCm'])\n",
        "print('Number of outliers:',len(outliers['SepalLengthCm']))"
      ],
      "metadata": {
        "colab": {
          "base_uri": "https://localhost:8080/"
        },
        "id": "v0IkjXIQ5fUN",
        "outputId": "cf3308eb-aed3-4b5a-d887-8154ceec36d5"
      },
      "execution_count": null,
      "outputs": [
        {
          "output_type": "stream",
          "name": "stdout",
          "text": [
            "Series([], Name: SepalLengthCm, dtype: float64)\n",
            "Number of outliers: 0\n"
          ]
        }
      ]
    },
    {
      "cell_type": "code",
      "source": [
        "# calculate IQR\n",
        "Q1 = df['SepalWidthCm'].quantile(0.25)\n",
        "Q3 = df['SepalWidthCm'].quantile(0.75)\n",
        "IQR = Q3 - Q1\n",
        "# identify outliers\n",
        "threshold = 1.5\n",
        "outliers = df[(df['SepalWidthCm'] < Q1 - threshold * IQR) | (df['SepalWidthCm'] > Q3 + threshold * IQR)]\n",
        "print(outliers['SepalWidthCm'])\n",
        "print('Number of outliers:',len(outliers['SepalWidthCm']))"
      ],
      "metadata": {
        "colab": {
          "base_uri": "https://localhost:8080/"
        },
        "id": "GjFeCxUL67uf",
        "outputId": "1b64c295-4f9d-4040-b1b4-12ffdca9e76a"
      },
      "execution_count": null,
      "outputs": [
        {
          "output_type": "stream",
          "name": "stdout",
          "text": [
            "Id\n",
            "16    4.4\n",
            "33    4.1\n",
            "34    4.2\n",
            "61    2.0\n",
            "Name: SepalWidthCm, dtype: float64\n",
            "Number of outliers: 4\n"
          ]
        }
      ]
    },
    {
      "cell_type": "code",
      "source": [
        "# calculate IQR\n",
        "Q1 = df['PetalLengthCm'].quantile(0.25)\n",
        "Q3 = df['PetalLengthCm'].quantile(0.75)\n",
        "IQR = Q3 - Q1\n",
        "# identify outliers\n",
        "threshold = 1.5\n",
        "outliers = df[(df['PetalLengthCm'] < Q1 - threshold * IQR) | (df['PetalLengthCm'] > Q3 + threshold * IQR)]\n",
        "outliers['PetalLengthCm']"
      ],
      "metadata": {
        "colab": {
          "base_uri": "https://localhost:8080/"
        },
        "id": "7uvu1lT08FTR",
        "outputId": "e737f98b-d3ae-4534-b85e-ea6ef43b4fd6"
      },
      "execution_count": null,
      "outputs": [
        {
          "output_type": "execute_result",
          "data": {
            "text/plain": [
              "Series([], Name: PetalLengthCm, dtype: float64)"
            ]
          },
          "metadata": {},
          "execution_count": 183
        }
      ]
    },
    {
      "cell_type": "code",
      "source": [
        "# calculate IQR\n",
        "Q1 = df['PetalWidthCm'].quantile(0.25)\n",
        "Q3 = df['PetalWidthCm'].quantile(0.75)\n",
        "IQR = Q3 - Q1\n",
        "# identify outliers\n",
        "threshold = 1.5\n",
        "outliers = df[(df['PetalWidthCm'] < Q1 - threshold * IQR) | (df['PetalWidthCm'] > Q3 + threshold * IQR)]\n",
        "outliers['PetalWidthCm']"
      ],
      "metadata": {
        "colab": {
          "base_uri": "https://localhost:8080/"
        },
        "id": "SBvlCuiiCo40",
        "outputId": "9283bdb8-4ce7-4c62-bbd4-5474e8e76d82"
      },
      "execution_count": null,
      "outputs": [
        {
          "output_type": "execute_result",
          "data": {
            "text/plain": [
              "Series([], Name: PetalWidthCm, dtype: float64)"
            ]
          },
          "metadata": {},
          "execution_count": 184
        }
      ]
    },
    {
      "cell_type": "code",
      "source": [
        "df['SepalLengthCm'].isnull().sum()"
      ],
      "metadata": {
        "colab": {
          "base_uri": "https://localhost:8080/"
        },
        "id": "M7ad9euH8Ort",
        "outputId": "f3aae243-ee43-4765-8b34-d0f3faa76b74"
      },
      "execution_count": null,
      "outputs": [
        {
          "output_type": "execute_result",
          "data": {
            "text/plain": [
              "0"
            ]
          },
          "metadata": {},
          "execution_count": 185
        }
      ]
    },
    {
      "cell_type": "code",
      "source": [
        "df['SepalWidthCm'].isnull().sum()"
      ],
      "metadata": {
        "colab": {
          "base_uri": "https://localhost:8080/"
        },
        "id": "lg5iqR83-woq",
        "outputId": "951c5d8d-aa63-41f6-e398-df0c0517cc00"
      },
      "execution_count": null,
      "outputs": [
        {
          "output_type": "execute_result",
          "data": {
            "text/plain": [
              "0"
            ]
          },
          "metadata": {},
          "execution_count": 186
        }
      ]
    },
    {
      "cell_type": "code",
      "source": [
        "df['PetalLengthCm'].isnull().sum()"
      ],
      "metadata": {
        "colab": {
          "base_uri": "https://localhost:8080/"
        },
        "id": "dVg44NmC-0zq",
        "outputId": "672c0e1a-c474-4223-cfac-f14f9d54274c"
      },
      "execution_count": null,
      "outputs": [
        {
          "output_type": "execute_result",
          "data": {
            "text/plain": [
              "0"
            ]
          },
          "metadata": {},
          "execution_count": 187
        }
      ]
    },
    {
      "cell_type": "markdown",
      "source": [
        "### Q#2 HISTOGRAMS"
      ],
      "metadata": {
        "id": "-sdO1Lf1Y8Iu"
      }
    },
    {
      "cell_type": "code",
      "source": [
        "plt.hist(df['SepalLengthCm'],color='pink',edgecolor='black')\n",
        "plt.xlabel(\"Sepal Length (cm)\")\n",
        "plt.ylabel(\"Frequency\")\n",
        "plt.title('Histogram for Sepal Length')\n",
        "plt.show()\n",
        "#df['SepalLengthCm'].hist(grid=False)"
      ],
      "metadata": {
        "colab": {
          "base_uri": "https://localhost:8080/",
          "height": 472
        },
        "id": "uyRavQ4G-5Kd",
        "outputId": "b7466cb7-45c3-4c3f-f13c-5242849722c0"
      },
      "execution_count": null,
      "outputs": [
        {
          "output_type": "display_data",
          "data": {
            "text/plain": [
              "<Figure size 640x480 with 1 Axes>"
            ],
            "image/png": "[encoded data removed]"
          },
          "metadata": {}
        }
      ]
    },
    {
      "cell_type": "code",
      "source": [
        "plt.hist(df['SepalWidthCm'],color='pink',edgecolor='black')\n",
        "plt.xlabel(\"Sepal Width (cm)\")\n",
        "plt.ylabel(\"Frequency\")\n",
        "plt.title('Histogram for Sepal Width')\n",
        "plt.show()"
      ],
      "metadata": {
        "colab": {
          "base_uri": "https://localhost:8080/",
          "height": 472
        },
        "id": "M2FPOXtI_sIl",
        "outputId": "9e3eb44f-b445-4c39-9c79-2a86d9f9b3d4"
      },
      "execution_count": null,
      "outputs": [
        {
          "output_type": "display_data",
          "data": {
            "text/plain": [
              "<Figure size 640x480 with 1 Axes>"
            ],
            "image/png": "[encoded data removed]"
          },
          "metadata": {}
        }
      ]
    },
    {
      "cell_type": "code",
      "source": [
        "plt.hist(df['PetalLengthCm'],color='pink',edgecolor='black')\n",
        "plt.xlabel(\"Petal Length (cm)\")\n",
        "plt.ylabel(\"Frequency\")\n",
        "plt.title('Histogram for Petal Length')\n",
        "plt.show()"
      ],
      "metadata": {
        "colab": {
          "base_uri": "https://localhost:8080/",
          "height": 472
        },
        "id": "6enbESkiHobX",
        "outputId": "7622b026-7dbe-415e-986a-7aa11ad34c59"
      },
      "execution_count": null,
      "outputs": [
        {
          "output_type": "display_data",
          "data": {
            "text/plain": [
              "<Figure size 640x480 with 1 Axes>"
            ],
            "image/png": "[encoded data removed]"
          },
          "metadata": {}
        }
      ]
    },
    {
      "cell_type": "code",
      "source": [
        "plt.hist(df['PetalWidthCm'],color='pink',edgecolor='black')\n",
        "plt.xlabel(\"Petal Width (cm)\")\n",
        "plt.ylabel(\"Frequency\")\n",
        "plt.title('Histogram for Petal Width')\n",
        "plt.show()\n"
      ],
      "metadata": {
        "colab": {
          "base_uri": "https://localhost:8080/",
          "height": 472
        },
        "id": "66e4Ak91DusC",
        "outputId": "a79b0812-441b-4941-c4a2-993fde9467f4"
      },
      "execution_count": null,
      "outputs": [
        {
          "output_type": "display_data",
          "data": {
            "text/plain": [
              "<Figure size 640x480 with 1 Axes>"
            ],
            "image/png": "[encoded data removed]"
          },
          "metadata": {}
        }
      ]
    },
    {
      "cell_type": "markdown",
      "source": [
        "### Q#4 HANDLING OUTLIERS"
      ],
      "metadata": {
        "id": "RdHgQMyIZGx8"
      }
    },
    {
      "cell_type": "code",
      "source": [
        "#q4 to smooth outliers of sepal width by replacing them with mean\n",
        "Q1 = df['SepalWidthCm'].quantile(0.25)\n",
        "Q3 = df['SepalWidthCm'].quantile(0.75)\n",
        "IQR = Q3 - Q1\n",
        "threshold = 1.5\n",
        "outliers = df[(df['SepalWidthCm'] < Q1 - threshold * IQR) | (df['SepalWidthCm'] > Q3 + threshold * IQR)]\n",
        "mean_value=df['SepalWidthCm'].mean()\n",
        "df.loc[df['SepalWidthCm'].isin(outliers['SepalWidthCm']), 'SepalWidthCm'] = mean_value\n",
        "outliers = df[(df['SepalWidthCm'] < Q1 - threshold * IQR) | (df['SepalWidthCm'] > Q3 + threshold * IQR)]\n",
        "print(\"Outliers after smoothing:\")\n",
        "print(outliers['SepalWidthCm'])\n",
        "print('Number of outliers:',len(outliers['SepalWidthCm']))"
      ],
      "metadata": {
        "colab": {
          "base_uri": "https://localhost:8080/"
        },
        "id": "ucuGAJwZFNzd",
        "outputId": "6ff5f957-ddf8-413e-e718-208e3412618e"
      },
      "execution_count": null,
      "outputs": [
        {
          "output_type": "stream",
          "name": "stdout",
          "text": [
            "Outliers after smoothing:\n",
            "Series([], Name: SepalWidthCm, dtype: float64)\n",
            "Number of outliers: 0\n"
          ]
        }
      ]
    },
    {
      "cell_type": "markdown",
      "source": [
        "# **Analysis for housing.csv**"
      ],
      "metadata": {
        "id": "am1YHG0uKGom"
      }
    },
    {
      "cell_type": "markdown",
      "source": [
        "### Q1 DATA PREPROCESSING"
      ],
      "metadata": {
        "id": "NSlx6ILnalH9"
      }
    },
    {
      "cell_type": "code",
      "source": [
        "df=pd.read_csv('/content/Housing.csv')\n",
        "df.head()"
      ],
      "metadata": {
        "colab": {
          "base_uri": "https://localhost:8080/",
          "height": 206
        },
        "id": "nacj0aVDH08d",
        "outputId": "9d9e1d0a-732e-4baf-8d2f-a1da1215dd33"
      },
      "execution_count": null,
      "outputs": [
        {
          "output_type": "execute_result",
          "data": {
            "text/plain": [
              "      price  area  bedrooms  bathrooms  stories mainroad guestroom basement  \\\n",
              "0  13300000  7420         4          2        3      yes        no       no   \n",
              "1  12250000  8960         4          4        4      yes        no       no   \n",
              "2  12250000  9960         3          2        2      yes        no      yes   \n",
              "3  12215000  7500         4          2        2      yes        no      yes   \n",
              "4  11410000  7420         4          1        2      yes       yes      yes   \n",
              "\n",
              "  hotwaterheating airconditioning  parking prefarea furnishingstatus  \n",
              "0              no             yes        2      yes        furnished  \n",
              "1              no             yes        3       no        furnished  \n",
              "2              no              no        2      yes   semi-furnished  \n",
              "3              no             yes        3      yes        furnished  \n",
              "4              no             yes        2       no        furnished  "
            ],
            "text/html": [
              "\n",
              "  <div id=\"df-cffadf09-ce15-4b6e-a098-b237d0aecea0\" class=\"colab-df-container\">\n",
              "    <div>\n",
              "<style scoped>\n",
              "    .dataframe tbody tr th:only-of-type {\n",
              "        vertical-align: middle;\n",
              "    }\n",
              "\n",
              "    .dataframe tbody tr th {\n",
              "        vertical-align: top;\n",
              "    }\n",
              "\n",
              "    .dataframe thead th {\n",
              "        text-align: right;\n",
              "    }\n",
              "</style>\n",
              "<table border=\"1\" class=\"dataframe\">\n",
              "  <thead>\n",
              "    <tr style=\"text-align: right;\">\n",
              "      <th></th>\n",
              "      <th>price</th>\n",
              "      <th>area</th>\n",
              "      <th>bedrooms</th>\n",
              "      <th>bathrooms</th>\n",
              "      <th>stories</th>\n",
              "      <th>mainroad</th>\n",
              "      <th>guestroom</th>\n",
              "      <th>basement</th>\n",
              "      <th>hotwaterheating</th>\n",
              "      <th>airconditioning</th>\n",
              "      <th>parking</th>\n",
              "      <th>prefarea</th>\n",
              "      <th>furnishingstatus</th>\n",
              "    </tr>\n",
              "  </thead>\n",
              "  <tbody>\n",
              "    <tr>\n",
              "      <th>0</th>\n",
              "      <td>13300000</td>\n",
              "      <td>7420</td>\n",
              "      <td>4</td>\n",
              "      <td>2</td>\n",
              "      <td>3</td>\n",
              "      <td>yes</td>\n",
              "      <td>no</td>\n",
              "      <td>no</td>\n",
              "      <td>no</td>\n",
              "      <td>yes</td>\n",
              "      <td>2</td>\n",
              "      <td>yes</td>\n",
              "      <td>furnished</td>\n",
              "    </tr>\n",
              "    <tr>\n",
              "      <th>1</th>\n",
              "      <td>12250000</td>\n",
              "      <td>8960</td>\n",
              "      <td>4</td>\n",
              "      <td>4</td>\n",
              "      <td>4</td>\n",
              "      <td>yes</td>\n",
              "      <td>no</td>\n",
              "      <td>no</td>\n",
              "      <td>no</td>\n",
              "      <td>yes</td>\n",
              "      <td>3</td>\n",
              "      <td>no</td>\n",
              "      <td>furnished</td>\n",
              "    </tr>\n",
              "    <tr>\n",
              "      <th>2</th>\n",
              "      <td>12250000</td>\n",
              "      <td>9960</td>\n",
              "      <td>3</td>\n",
              "      <td>2</td>\n",
              "      <td>2</td>\n",
              "      <td>yes</td>\n",
              "      <td>no</td>\n",
              "      <td>yes</td>\n",
              "      <td>no</td>\n",
              "      <td>no</td>\n",
              "      <td>2</td>\n",
              "      <td>yes</td>\n",
              "      <td>semi-furnished</td>\n",
              "    </tr>\n",
              "    <tr>\n",
              "      <th>3</th>\n",
              "      <td>12215000</td>\n",
              "      <td>7500</td>\n",
              "      <td>4</td>\n",
              "      <td>2</td>\n",
              "      <td>2</td>\n",
              "      <td>yes</td>\n",
              "      <td>no</td>\n",
              "      <td>yes</td>\n",
              "      <td>no</td>\n",
              "      <td>yes</td>\n",
              "      <td>3</td>\n",
              "      <td>yes</td>\n",
              "      <td>furnished</td>\n",
              "    </tr>\n",
              "    <tr>\n",
              "      <th>4</th>\n",
              "      <td>11410000</td>\n",
              "      <td>7420</td>\n",
              "      <td>4</td>\n",
              "      <td>1</td>\n",
              "      <td>2</td>\n",
              "      <td>yes</td>\n",
              "      <td>yes</td>\n",
              "      <td>yes</td>\n",
              "      <td>no</td>\n",
              "      <td>yes</td>\n",
              "      <td>2</td>\n",
              "      <td>no</td>\n",
              "      <td>furnished</td>\n",
              "    </tr>\n",
              "  </tbody>\n",
              "</table>\n",
              "</div>\n",
              "    <div class=\"colab-df-buttons\">\n",
              "\n",
              "  <div class=\"colab-df-container\">\n",
              "    <button class=\"colab-df-convert\" onclick=\"convertToInteractive('df-cffadf09-ce15-4b6e-a098-b237d0aecea0')\"\n",
              "            title=\"Convert this dataframe to an interactive table.\"\n",
              "            style=\"display:none;\">\n",
              "\n",
              "  <svg xmlns=\"http://www.w3.org/2000/svg\" height=\"24px\" viewBox=\"0 -960 960 960\">\n",
              "    <path d=\"M120-120v-720h720v720H120Zm60-500h600v-160H180v160Zm220 220h160v-160H400v160Zm0 220h160v-160H400v160ZM180-400h160v-160H180v160Zm440 0h160v-160H620v160ZM180-180h160v-160H180v160Zm440 0h160v-160H620v160Z\"/>\n",
              "  </svg>\n",
              "    </button>\n",
              "\n",
              "  <style>\n",
              "    .colab-df-container {\n",
              "      display:flex;\n",
              "      gap: 12px;\n",
              "    }\n",
              "\n",
              "    .colab-df-convert {\n",
              "      background-color: #E8F0FE;\n",
              "      border: none;\n",
              "      border-radius: 50%;\n",
              "      cursor: pointer;\n",
              "      display: none;\n",
              "      fill: #1967D2;\n",
              "      height: 32px;\n",
              "      padding: 0 0 0 0;\n",
              "      width: 32px;\n",
              "    }\n",
              "\n",
              "    .colab-df-convert:hover {\n",
              "      background-color: #E2EBFA;\n",
              "      box-shadow: 0px 1px 2px rgba(60, 64, 67, 0.3), 0px 1px 3px 1px rgba(60, 64, 67, 0.15);\n",
              "      fill: #174EA6;\n",
              "    }\n",
              "\n",
              "    .colab-df-buttons div {\n",
              "      margin-bottom: 4px;\n",
              "    }\n",
              "\n",
              "    [theme=dark] .colab-df-convert {\n",
              "      background-color: #3B4455;\n",
              "      fill: #D2E3FC;\n",
              "    }\n",
              "\n",
              "    [theme=dark] .colab-df-convert:hover {\n",
              "      background-color: #434B5C;\n",
              "      box-shadow: 0px 1px 3px 1px rgba(0, 0, 0, 0.15);\n",
              "      filter: drop-shadow(0px 1px 2px rgba(0, 0, 0, 0.3));\n",
              "      fill: #FFFFFF;\n",
              "    }\n",
              "  </style>\n",
              "\n",
              "    <script>\n",
              "      const buttonEl =\n",
              "        document.querySelector('#df-cffadf09-ce15-4b6e-a098-b237d0aecea0 button.colab-df-convert');\n",
              "      buttonEl.style.display =\n",
              "        google.colab.kernel.accessAllowed ? 'block' : 'none';\n",
              "\n",
              "      async function convertToInteractive(key) {\n",
              "        const element = document.querySelector('#df-cffadf09-ce15-4b6e-a098-b237d0aecea0');\n",
              "        const dataTable =\n",
              "          await google.colab.kernel.invokeFunction('convertToInteractive',\n",
              "                                                    [key], {});\n",
              "        if (!dataTable) return;\n",
              "\n",
              "        const docLinkHtml = 'Like what you see? Visit the ' +\n",
              "          '<a target=\"_blank\" href=https://colab.research.google.com/notebooks/data_table.ipynb>data table notebook</a>'\n",
              "          + ' to learn more about interactive tables.';\n",
              "        element.innerHTML = '';\n",
              "        dataTable['output_type'] = 'display_data';\n",
              "        await google.colab.output.renderOutput(dataTable, element);\n",
              "        const docLink = document.createElement('div');\n",
              "        docLink.innerHTML = docLinkHtml;\n",
              "        element.appendChild(docLink);\n",
              "      }\n",
              "    </script>\n",
              "  </div>\n",
              "\n",
              "\n",
              "<div id=\"df-2a265220-cc67-4ff6-aa5c-e21a50cf8a9d\">\n",
              "  <button class=\"colab-df-quickchart\" onclick=\"quickchart('df-2a265220-cc67-4ff6-aa5c-e21a50cf8a9d')\"\n",
              "            title=\"Suggest charts.\"\n",
              "            style=\"display:none;\">\n",
              "\n",
              "<svg xmlns=\"http://www.w3.org/2000/svg\" height=\"24px\"viewBox=\"0 0 24 24\"\n",
              "     width=\"24px\">\n",
              "    <g>\n",
              "        <path d=\"M19 3H5c-1.1 0-2 .9-2 2v14c0 1.1.9 2 2 2h14c1.1 0 2-.9 2-2V5c0-1.1-.9-2-2-2zM9 17H7v-7h2v7zm4 0h-2V7h2v10zm4 0h-2v-4h2v4z\"/>\n",
              "    </g>\n",
              "</svg>\n",
              "  </button>\n",
              "\n",
              "<style>\n",
              "  .colab-df-quickchart {\n",
              "      --bg-color: #E8F0FE;\n",
              "      --fill-color: #1967D2;\n",
              "      --hover-bg-color: #E2EBFA;\n",
              "      --hover-fill-color: #174EA6;\n",
              "      --disabled-fill-color: #AAA;\n",
              "      --disabled-bg-color: #DDD;\n",
              "  }\n",
              "\n",
              "  [theme=dark] .colab-df-quickchart {\n",
              "      --bg-color: #3B4455;\n",
              "      --fill-color: #D2E3FC;\n",
              "      --hover-bg-color: #434B5C;\n",
              "      --hover-fill-color: #FFFFFF;\n",
              "      --disabled-bg-color: #3B4455;\n",
              "      --disabled-fill-color: #666;\n",
              "  }\n",
              "\n",
              "  .colab-df-quickchart {\n",
              "    background-color: var(--bg-color);\n",
              "    border: none;\n",
              "    border-radius: 50%;\n",
              "    cursor: pointer;\n",
              "    display: none;\n",
              "    fill: var(--fill-color);\n",
              "    height: 32px;\n",
              "    padding: 0;\n",
              "    width: 32px;\n",
              "  }\n",
              "\n",
              "  .colab-df-quickchart:hover {\n",
              "    background-color: var(--hover-bg-color);\n",
              "    box-shadow: 0 1px 2px rgba(60, 64, 67, 0.3), 0 1px 3px 1px rgba(60, 64, 67, 0.15);\n",
              "    fill: var(--button-hover-fill-color);\n",
              "  }\n",
              "\n",
              "  .colab-df-quickchart-complete:disabled,\n",
              "  .colab-df-quickchart-complete:disabled:hover {\n",
              "    background-color: var(--disabled-bg-color);\n",
              "    fill: var(--disabled-fill-color);\n",
              "    box-shadow: none;\n",
              "  }\n",
              "\n",
              "  .colab-df-spinner {\n",
              "    border: 2px solid var(--fill-color);\n",
              "    border-color: transparent;\n",
              "    border-bottom-color: var(--fill-color);\n",
              "    animation:\n",
              "      spin 1s steps(1) infinite;\n",
              "  }\n",
              "\n",
              "  @keyframes spin {\n",
              "    0% {\n",
              "      border-color: transparent;\n",
              "      border-bottom-color: var(--fill-color);\n",
              "      border-left-color: var(--fill-color);\n",
              "    }\n",
              "    20% {\n",
              "      border-color: transparent;\n",
              "      border-left-color: var(--fill-color);\n",
              "      border-top-color: var(--fill-color);\n",
              "    }\n",
              "    30% {\n",
              "      border-color: transparent;\n",
              "      border-left-color: var(--fill-color);\n",
              "      border-top-color: var(--fill-color);\n",
              "      border-right-color: var(--fill-color);\n",
              "    }\n",
              "    40% {\n",
              "      border-color: transparent;\n",
              "      border-right-color: var(--fill-color);\n",
              "      border-top-color: var(--fill-color);\n",
              "    }\n",
              "    60% {\n",
              "      border-color: transparent;\n",
              "      border-right-color: var(--fill-color);\n",
              "    }\n",
              "    80% {\n",
              "      border-color: transparent;\n",
              "      border-right-color: var(--fill-color);\n",
              "      border-bottom-color: var(--fill-color);\n",
              "    }\n",
              "    90% {\n",
              "      border-color: transparent;\n",
              "      border-bottom-color: var(--fill-color);\n",
              "    }\n",
              "  }\n",
              "</style>\n",
              "\n",
              "  <script>\n",
              "    async function quickchart(key) {\n",
              "      const quickchartButtonEl =\n",
              "        document.querySelector('#' + key + ' button');\n",
              "      quickchartButtonEl.disabled = true;  // To prevent multiple clicks.\n",
              "      quickchartButtonEl.classList.add('colab-df-spinner');\n",
              "      try {\n",
              "        const charts = await google.colab.kernel.invokeFunction(\n",
              "            'suggestCharts', [key], {});\n",
              "      } catch (error) {\n",
              "        console.error('Error during call to suggestCharts:', error);\n",
              "      }\n",
              "      quickchartButtonEl.classList.remove('colab-df-spinner');\n",
              "      quickchartButtonEl.classList.add('colab-df-quickchart-complete');\n",
              "    }\n",
              "    (() => {\n",
              "      let quickchartButtonEl =\n",
              "        document.querySelector('#df-2a265220-cc67-4ff6-aa5c-e21a50cf8a9d button');\n",
              "      quickchartButtonEl.style.display =\n",
              "        google.colab.kernel.accessAllowed ? 'block' : 'none';\n",
              "    })();\n",
              "  </script>\n",
              "</div>\n",
              "    </div>\n",
              "  </div>\n"
            ]
          },
          "metadata": {},
          "execution_count": 247
        }
      ]
    },
    {
      "cell_type": "code",
      "source": [
        "df.describe()"
      ],
      "metadata": {
        "colab": {
          "base_uri": "https://localhost:8080/",
          "height": 300
        },
        "id": "z5hImNHBcJfS",
        "outputId": "1933ef15-8cf1-4728-b52f-6875368b38e6"
      },
      "execution_count": null,
      "outputs": [
        {
          "output_type": "execute_result",
          "data": {
            "text/plain": [
              "              price          area    bedrooms   bathrooms     stories  \\\n",
              "count  5.450000e+02    545.000000  545.000000  545.000000  545.000000   \n",
              "mean   4.766729e+06   5150.541284    2.965138    1.286239    1.805505   \n",
              "std    1.870440e+06   2170.141023    0.738064    0.502470    0.867492   \n",
              "min    1.750000e+06   1650.000000    1.000000    1.000000    1.000000   \n",
              "25%    3.430000e+06   3600.000000    2.000000    1.000000    1.000000   \n",
              "50%    4.340000e+06   4600.000000    3.000000    1.000000    2.000000   \n",
              "75%    5.740000e+06   6360.000000    3.000000    2.000000    2.000000   \n",
              "max    1.330000e+07  16200.000000    6.000000    4.000000    4.000000   \n",
              "\n",
              "          parking  \n",
              "count  545.000000  \n",
              "mean     0.693578  \n",
              "std      0.861586  \n",
              "min      0.000000  \n",
              "25%      0.000000  \n",
              "50%      0.000000  \n",
              "75%      1.000000  \n",
              "max      3.000000  "
            ],
            "text/html": [
              "\n",
              "  <div id=\"df-36d08254-4065-4e11-92c0-6be21f176d5f\" class=\"colab-df-container\">\n",
              "    <div>\n",
              "<style scoped>\n",
              "    .dataframe tbody tr th:only-of-type {\n",
              "        vertical-align: middle;\n",
              "    }\n",
              "\n",
              "    .dataframe tbody tr th {\n",
              "        vertical-align: top;\n",
              "    }\n",
              "\n",
              "    .dataframe thead th {\n",
              "        text-align: right;\n",
              "    }\n",
              "</style>\n",
              "<table border=\"1\" class=\"dataframe\">\n",
              "  <thead>\n",
              "    <tr style=\"text-align: right;\">\n",
              "      <th></th>\n",
              "      <th>price</th>\n",
              "      <th>area</th>\n",
              "      <th>bedrooms</th>\n",
              "      <th>bathrooms</th>\n",
              "      <th>stories</th>\n",
              "      <th>parking</th>\n",
              "    </tr>\n",
              "  </thead>\n",
              "  <tbody>\n",
              "    <tr>\n",
              "      <th>count</th>\n",
              "      <td>5.450000e+02</td>\n",
              "      <td>545.000000</td>\n",
              "      <td>545.000000</td>\n",
              "      <td>545.000000</td>\n",
              "      <td>545.000000</td>\n",
              "      <td>545.000000</td>\n",
              "    </tr>\n",
              "    <tr>\n",
              "      <th>mean</th>\n",
              "      <td>4.766729e+06</td>\n",
              "      <td>5150.541284</td>\n",
              "      <td>2.965138</td>\n",
              "      <td>1.286239</td>\n",
              "      <td>1.805505</td>\n",
              "      <td>0.693578</td>\n",
              "    </tr>\n",
              "    <tr>\n",
              "      <th>std</th>\n",
              "      <td>1.870440e+06</td>\n",
              "      <td>2170.141023</td>\n",
              "      <td>0.738064</td>\n",
              "      <td>0.502470</td>\n",
              "      <td>0.867492</td>\n",
              "      <td>0.861586</td>\n",
              "    </tr>\n",
              "    <tr>\n",
              "      <th>min</th>\n",
              "      <td>1.750000e+06</td>\n",
              "      <td>1650.000000</td>\n",
              "      <td>1.000000</td>\n",
              "      <td>1.000000</td>\n",
              "      <td>1.000000</td>\n",
              "      <td>0.000000</td>\n",
              "    </tr>\n",
              "    <tr>\n",
              "      <th>25%</th>\n",
              "      <td>3.430000e+06</td>\n",
              "      <td>3600.000000</td>\n",
              "      <td>2.000000</td>\n",
              "      <td>1.000000</td>\n",
              "      <td>1.000000</td>\n",
              "      <td>0.000000</td>\n",
              "    </tr>\n",
              "    <tr>\n",
              "      <th>50%</th>\n",
              "      <td>4.340000e+06</td>\n",
              "      <td>4600.000000</td>\n",
              "      <td>3.000000</td>\n",
              "      <td>1.000000</td>\n",
              "      <td>2.000000</td>\n",
              "      <td>0.000000</td>\n",
              "    </tr>\n",
              "    <tr>\n",
              "      <th>75%</th>\n",
              "      <td>5.740000e+06</td>\n",
              "      <td>6360.000000</td>\n",
              "      <td>3.000000</td>\n",
              "      <td>2.000000</td>\n",
              "      <td>2.000000</td>\n",
              "      <td>1.000000</td>\n",
              "    </tr>\n",
              "    <tr>\n",
              "      <th>max</th>\n",
              "      <td>1.330000e+07</td>\n",
              "      <td>16200.000000</td>\n",
              "      <td>6.000000</td>\n",
              "      <td>4.000000</td>\n",
              "      <td>4.000000</td>\n",
              "      <td>3.000000</td>\n",
              "    </tr>\n",
              "  </tbody>\n",
              "</table>\n",
              "</div>\n",
              "    <div class=\"colab-df-buttons\">\n",
              "\n",
              "  <div class=\"colab-df-container\">\n",
              "    <button class=\"colab-df-convert\" onclick=\"convertToInteractive('df-36d08254-4065-4e11-92c0-6be21f176d5f')\"\n",
              "            title=\"Convert this dataframe to an interactive table.\"\n",
              "            style=\"display:none;\">\n",
              "\n",
              "  <svg xmlns=\"http://www.w3.org/2000/svg\" height=\"24px\" viewBox=\"0 -960 960 960\">\n",
              "    <path d=\"M120-120v-720h720v720H120Zm60-500h600v-160H180v160Zm220 220h160v-160H400v160Zm0 220h160v-160H400v160ZM180-400h160v-160H180v160Zm440 0h160v-160H620v160ZM180-180h160v-160H180v160Zm440 0h160v-160H620v160Z\"/>\n",
              "  </svg>\n",
              "    </button>\n",
              "\n",
              "  <style>\n",
              "    .colab-df-container {\n",
              "      display:flex;\n",
              "      gap: 12px;\n",
              "    }\n",
              "\n",
              "    .colab-df-convert {\n",
              "      background-color: #E8F0FE;\n",
              "      border: none;\n",
              "      border-radius: 50%;\n",
              "      cursor: pointer;\n",
              "      display: none;\n",
              "      fill: #1967D2;\n",
              "      height: 32px;\n",
              "      padding: 0 0 0 0;\n",
              "      width: 32px;\n",
              "    }\n",
              "\n",
              "    .colab-df-convert:hover {\n",
              "      background-color: #E2EBFA;\n",
              "      box-shadow: 0px 1px 2px rgba(60, 64, 67, 0.3), 0px 1px 3px 1px rgba(60, 64, 67, 0.15);\n",
              "      fill: #174EA6;\n",
              "    }\n",
              "\n",
              "    .colab-df-buttons div {\n",
              "      margin-bottom: 4px;\n",
              "    }\n",
              "\n",
              "    [theme=dark] .colab-df-convert {\n",
              "      background-color: #3B4455;\n",
              "      fill: #D2E3FC;\n",
              "    }\n",
              "\n",
              "    [theme=dark] .colab-df-convert:hover {\n",
              "      background-color: #434B5C;\n",
              "      box-shadow: 0px 1px 3px 1px rgba(0, 0, 0, 0.15);\n",
              "      filter: drop-shadow(0px 1px 2px rgba(0, 0, 0, 0.3));\n",
              "      fill: #FFFFFF;\n",
              "    }\n",
              "  </style>\n",
              "\n",
              "    <script>\n",
              "      const buttonEl =\n",
              "        document.querySelector('#df-36d08254-4065-4e11-92c0-6be21f176d5f button.colab-df-convert');\n",
              "      buttonEl.style.display =\n",
              "        google.colab.kernel.accessAllowed ? 'block' : 'none';\n",
              "\n",
              "      async function convertToInteractive(key) {\n",
              "        const element = document.querySelector('#df-36d08254-4065-4e11-92c0-6be21f176d5f');\n",
              "        const dataTable =\n",
              "          await google.colab.kernel.invokeFunction('convertToInteractive',\n",
              "                                                    [key], {});\n",
              "        if (!dataTable) return;\n",
              "\n",
              "        const docLinkHtml = 'Like what you see? Visit the ' +\n",
              "          '<a target=\"_blank\" href=https://colab.research.google.com/notebooks/data_table.ipynb>data table notebook</a>'\n",
              "          + ' to learn more about interactive tables.';\n",
              "        element.innerHTML = '';\n",
              "        dataTable['output_type'] = 'display_data';\n",
              "        await google.colab.output.renderOutput(dataTable, element);\n",
              "        const docLink = document.createElement('div');\n",
              "        docLink.innerHTML = docLinkHtml;\n",
              "        element.appendChild(docLink);\n",
              "      }\n",
              "    </script>\n",
              "  </div>\n",
              "\n",
              "\n",
              "<div id=\"df-29384ad4-0f8b-4065-906e-4dfa437e3b42\">\n",
              "  <button class=\"colab-df-quickchart\" onclick=\"quickchart('df-29384ad4-0f8b-4065-906e-4dfa437e3b42')\"\n",
              "            title=\"Suggest charts.\"\n",
              "            style=\"display:none;\">\n",
              "\n",
              "<svg xmlns=\"http://www.w3.org/2000/svg\" height=\"24px\"viewBox=\"0 0 24 24\"\n",
              "     width=\"24px\">\n",
              "    <g>\n",
              "        <path d=\"M19 3H5c-1.1 0-2 .9-2 2v14c0 1.1.9 2 2 2h14c1.1 0 2-.9 2-2V5c0-1.1-.9-2-2-2zM9 17H7v-7h2v7zm4 0h-2V7h2v10zm4 0h-2v-4h2v4z\"/>\n",
              "    </g>\n",
              "</svg>\n",
              "  </button>\n",
              "\n",
              "<style>\n",
              "  .colab-df-quickchart {\n",
              "      --bg-color: #E8F0FE;\n",
              "      --fill-color: #1967D2;\n",
              "      --hover-bg-color: #E2EBFA;\n",
              "      --hover-fill-color: #174EA6;\n",
              "      --disabled-fill-color: #AAA;\n",
              "      --disabled-bg-color: #DDD;\n",
              "  }\n",
              "\n",
              "  [theme=dark] .colab-df-quickchart {\n",
              "      --bg-color: #3B4455;\n",
              "      --fill-color: #D2E3FC;\n",
              "      --hover-bg-color: #434B5C;\n",
              "      --hover-fill-color: #FFFFFF;\n",
              "      --disabled-bg-color: #3B4455;\n",
              "      --disabled-fill-color: #666;\n",
              "  }\n",
              "\n",
              "  .colab-df-quickchart {\n",
              "    background-color: var(--bg-color);\n",
              "    border: none;\n",
              "    border-radius: 50%;\n",
              "    cursor: pointer;\n",
              "    display: none;\n",
              "    fill: var(--fill-color);\n",
              "    height: 32px;\n",
              "    padding: 0;\n",
              "    width: 32px;\n",
              "  }\n",
              "\n",
              "  .colab-df-quickchart:hover {\n",
              "    background-color: var(--hover-bg-color);\n",
              "    box-shadow: 0 1px 2px rgba(60, 64, 67, 0.3), 0 1px 3px 1px rgba(60, 64, 67, 0.15);\n",
              "    fill: var(--button-hover-fill-color);\n",
              "  }\n",
              "\n",
              "  .colab-df-quickchart-complete:disabled,\n",
              "  .colab-df-quickchart-complete:disabled:hover {\n",
              "    background-color: var(--disabled-bg-color);\n",
              "    fill: var(--disabled-fill-color);\n",
              "    box-shadow: none;\n",
              "  }\n",
              "\n",
              "  .colab-df-spinner {\n",
              "    border: 2px solid var(--fill-color);\n",
              "    border-color: transparent;\n",
              "    border-bottom-color: var(--fill-color);\n",
              "    animation:\n",
              "      spin 1s steps(1) infinite;\n",
              "  }\n",
              "\n",
              "  @keyframes spin {\n",
              "    0% {\n",
              "      border-color: transparent;\n",
              "      border-bottom-color: var(--fill-color);\n",
              "      border-left-color: var(--fill-color);\n",
              "    }\n",
              "    20% {\n",
              "      border-color: transparent;\n",
              "      border-left-color: var(--fill-color);\n",
              "      border-top-color: var(--fill-color);\n",
              "    }\n",
              "    30% {\n",
              "      border-color: transparent;\n",
              "      border-left-color: var(--fill-color);\n",
              "      border-top-color: var(--fill-color);\n",
              "      border-right-color: var(--fill-color);\n",
              "    }\n",
              "    40% {\n",
              "      border-color: transparent;\n",
              "      border-right-color: var(--fill-color);\n",
              "      border-top-color: var(--fill-color);\n",
              "    }\n",
              "    60% {\n",
              "      border-color: transparent;\n",
              "      border-right-color: var(--fill-color);\n",
              "    }\n",
              "    80% {\n",
              "      border-color: transparent;\n",
              "      border-right-color: var(--fill-color);\n",
              "      border-bottom-color: var(--fill-color);\n",
              "    }\n",
              "    90% {\n",
              "      border-color: transparent;\n",
              "      border-bottom-color: var(--fill-color);\n",
              "    }\n",
              "  }\n",
              "</style>\n",
              "\n",
              "  <script>\n",
              "    async function quickchart(key) {\n",
              "      const quickchartButtonEl =\n",
              "        document.querySelector('#' + key + ' button');\n",
              "      quickchartButtonEl.disabled = true;  // To prevent multiple clicks.\n",
              "      quickchartButtonEl.classList.add('colab-df-spinner');\n",
              "      try {\n",
              "        const charts = await google.colab.kernel.invokeFunction(\n",
              "            'suggestCharts', [key], {});\n",
              "      } catch (error) {\n",
              "        console.error('Error during call to suggestCharts:', error);\n",
              "      }\n",
              "      quickchartButtonEl.classList.remove('colab-df-spinner');\n",
              "      quickchartButtonEl.classList.add('colab-df-quickchart-complete');\n",
              "    }\n",
              "    (() => {\n",
              "      let quickchartButtonEl =\n",
              "        document.querySelector('#df-29384ad4-0f8b-4065-906e-4dfa437e3b42 button');\n",
              "      quickchartButtonEl.style.display =\n",
              "        google.colab.kernel.accessAllowed ? 'block' : 'none';\n",
              "    })();\n",
              "  </script>\n",
              "</div>\n",
              "    </div>\n",
              "  </div>\n"
            ]
          },
          "metadata": {},
          "execution_count": 194
        }
      ]
    },
    {
      "cell_type": "code",
      "source": [
        "df.info()"
      ],
      "metadata": {
        "colab": {
          "base_uri": "https://localhost:8080/"
        },
        "id": "ygkEU8S1ctHE",
        "outputId": "be76d3ae-6ea2-4c89-ace4-ead98693dc95"
      },
      "execution_count": null,
      "outputs": [
        {
          "output_type": "stream",
          "name": "stdout",
          "text": [
            "<class 'pandas.core.frame.DataFrame'>\n",
            "RangeIndex: 545 entries, 0 to 544\n",
            "Data columns (total 13 columns):\n",
            " #   Column            Non-Null Count  Dtype \n",
            "---  ------            --------------  ----- \n",
            " 0   price             545 non-null    int64 \n",
            " 1   area              545 non-null    int64 \n",
            " 2   bedrooms          545 non-null    int64 \n",
            " 3   bathrooms         545 non-null    int64 \n",
            " 4   stories           545 non-null    int64 \n",
            " 5   mainroad          545 non-null    object\n",
            " 6   guestroom         545 non-null    object\n",
            " 7   basement          545 non-null    object\n",
            " 8   hotwaterheating   545 non-null    object\n",
            " 9   airconditioning   545 non-null    object\n",
            " 10  parking           545 non-null    int64 \n",
            " 11  prefarea          545 non-null    object\n",
            " 12  furnishingstatus  545 non-null    object\n",
            "dtypes: int64(6), object(7)\n",
            "memory usage: 55.5+ KB\n"
          ]
        }
      ]
    },
    {
      "cell_type": "code",
      "source": [
        "median=df['area'].median()\n",
        "print(\"Median:\",median)\n",
        "mode_A=df['area'].mode()[0]\n",
        "print('Mode:',mode_A)\n",
        "var_A=df['area'].var()\n",
        "print('Variance',var_A)\n",
        "std_A=df['area'].std()\n",
        "print('Standard Deviation:',std_A)"
      ],
      "metadata": {
        "colab": {
          "base_uri": "https://localhost:8080/"
        },
        "id": "EPKR-17ndUah",
        "outputId": "ff367a90-b48a-4f72-a652-38435ca52fd1"
      },
      "execution_count": null,
      "outputs": [
        {
          "output_type": "stream",
          "name": "stdout",
          "text": [
            "Median: 4600.0\n",
            "Mode: 6000\n",
            "Variance 4709512.057575554\n",
            "Standard Deviation: 2170.141022508803\n"
          ]
        }
      ]
    },
    {
      "cell_type": "code",
      "source": [
        "median=df['price'].median()\n",
        "print(\"Median:\",median)\n",
        "mode_P=df['price'].mode()[0]\n",
        "print('Mode:',mode_P)\n",
        "var_P=df['price'].var()\n",
        "print('Variance:',var_P)\n",
        "std_P=df['price'].std()\n",
        "print('Standard Deviation:',std_P)"
      ],
      "metadata": {
        "colab": {
          "base_uri": "https://localhost:8080/"
        },
        "id": "NJYvATbUd_4h",
        "outputId": "7122ee71-12e6-43a6-f12b-8c8d047934a5"
      },
      "execution_count": null,
      "outputs": [
        {
          "output_type": "stream",
          "name": "stdout",
          "text": [
            "Median: 4340000.0\n",
            "Mode: 3500000\n",
            "Variance: 3498544355820.573\n",
            "Standard Deviation: 1870439.6156573922\n"
          ]
        }
      ]
    },
    {
      "cell_type": "code",
      "source": [
        "median=df['bedrooms'].median()\n",
        "print(\"Median:\",median)\n",
        "mode_B=df['bedrooms'].mode()[0]\n",
        "print('Mode:',mode_B)\n",
        "var_B=df['bedrooms'].var()\n",
        "print('variance:',var_B)\n",
        "std_B=df['bedrooms'].std()\n",
        "print('Standard deviation:',std_B)"
      ],
      "metadata": {
        "colab": {
          "base_uri": "https://localhost:8080/"
        },
        "id": "J9XHq5LPeNg3",
        "outputId": "ed200e65-ba04-4320-cc32-13799c622f74"
      },
      "execution_count": null,
      "outputs": [
        {
          "output_type": "stream",
          "name": "stdout",
          "text": [
            "Median: 3.0\n",
            "Mode: 3\n",
            "variance: 0.544738262277388\n",
            "Standard deviation: 0.7380638605685743\n"
          ]
        }
      ]
    },
    {
      "cell_type": "code",
      "source": [
        "median=df['bathrooms'].median()\n",
        "print('Median:',median)\n",
        "mode=df['bathrooms'].mode()[0]\n",
        "print('Mode:',mode)\n",
        "var=df['bathrooms'].var()\n",
        "print('Variance:',var)\n",
        "std=df['bathrooms'].std()\n",
        "print('Standard deviation:',std)"
      ],
      "metadata": {
        "colab": {
          "base_uri": "https://localhost:8080/"
        },
        "id": "8hwvsAfBI4RQ",
        "outputId": "3a1c0b49-ecaf-4f6b-fd2d-70b641c1e24a"
      },
      "execution_count": null,
      "outputs": [
        {
          "output_type": "stream",
          "name": "stdout",
          "text": [
            "Median: 1.0\n",
            "Mode: 1\n",
            "Variance: 0.2524757150566649\n",
            "Standard deviation: 0.5024696160532146\n"
          ]
        }
      ]
    },
    {
      "cell_type": "code",
      "source": [
        "median=df['stories'].median()\n",
        "print('Median:',median)\n",
        "mode=df['stories'].mode()[0]\n",
        "print('Mode:',mode)\n",
        "var=df['stories'].var()\n",
        "print('Variance:',var)\n",
        "std=df['stories'].std()\n",
        "print('Standard deviation:',std)"
      ],
      "metadata": {
        "colab": {
          "base_uri": "https://localhost:8080/"
        },
        "id": "30GdL_kUI4nD",
        "outputId": "45449a7f-2b3f-4370-d7d1-f06a752a531c"
      },
      "execution_count": null,
      "outputs": [
        {
          "output_type": "stream",
          "name": "stdout",
          "text": [
            "Median: 2.0\n",
            "Mode: 2\n",
            "Variance: 0.7525431732325958\n",
            "Standard deviation: 0.8674924629255264\n"
          ]
        }
      ]
    },
    {
      "cell_type": "code",
      "source": [
        "median=df['parking'].median()\n",
        "print('Median:',median)\n",
        "mode=df['parking'].mode()[0]\n",
        "print('Mode:',mode)\n",
        "var=df['parking'].var()\n",
        "print('Variance:',var)\n",
        "std=df['parking'].std()\n",
        "print('Standard deviation:',std)"
      ],
      "metadata": {
        "colab": {
          "base_uri": "https://localhost:8080/"
        },
        "id": "42LS8s_XI4zq",
        "outputId": "4a070e72-2893-4773-816c-27dd98a2d2e8"
      },
      "execution_count": null,
      "outputs": [
        {
          "output_type": "stream",
          "name": "stdout",
          "text": [
            "Median: 0.0\n",
            "Mode: 0\n",
            "Variance: 0.7423300053966541\n",
            "Standard deviation: 0.8615857504605412\n"
          ]
        }
      ]
    },
    {
      "cell_type": "code",
      "source": [
        "# calculate IQR\n",
        "Q1 = df['area'].quantile(0.25)\n",
        "Q3 = df['area'].quantile(0.75)\n",
        "IQR = Q3 - Q1\n",
        "# identify outliers\n",
        "threshold = 1.5\n",
        "outliers = df[(df['area'] < Q1 - threshold * IQR) | (df['area'] > Q3 + threshold * IQR)]\n",
        "print(outliers['area'])\n",
        "len(outliers['area'])\n",
        "\n"
      ],
      "metadata": {
        "colab": {
          "base_uri": "https://localhost:8080/"
        },
        "id": "sSyF2R7hec7-",
        "outputId": "9c550b7c-a77f-45ce-8d17-e1a8e8dfd7bb"
      },
      "execution_count": null,
      "outputs": [
        {
          "output_type": "stream",
          "name": "stdout",
          "text": [
            "7      16200\n",
            "10     13200\n",
            "56     11440\n",
            "64     11175\n",
            "66     13200\n",
            "69     12090\n",
            "125    15600\n",
            "129    11460\n",
            "186    11410\n",
            "191    10700\n",
            "211    12900\n",
            "403    12944\n",
            "Name: area, dtype: int64\n"
          ]
        },
        {
          "output_type": "execute_result",
          "data": {
            "text/plain": [
              "12"
            ]
          },
          "metadata": {},
          "execution_count": 202
        }
      ]
    },
    {
      "cell_type": "code",
      "source": [
        "# calculate IQR\n",
        "Q1 = df['bedrooms'].quantile(0.25)\n",
        "Q3 = df['bedrooms'].quantile(0.75)\n",
        "IQR = Q3 - Q1\n",
        "# identify outliers\n",
        "threshold = 1.5\n",
        "outliers = df[(df['bedrooms'] < Q1 - threshold * IQR) | (df['bedrooms'] > Q3 + threshold * IQR)]\n",
        "outliers['bedrooms']\n",
        "print(len(outliers['bedrooms']))"
      ],
      "metadata": {
        "colab": {
          "base_uri": "https://localhost:8080/"
        },
        "id": "VQ0-zzlYeuCB",
        "outputId": "d44a828e-257f-4b65-9453-3fb9410463d1"
      },
      "execution_count": null,
      "outputs": [
        {
          "output_type": "stream",
          "name": "stdout",
          "text": [
            "12\n"
          ]
        }
      ]
    },
    {
      "cell_type": "code",
      "source": [
        "# calculate IQR\n",
        "Q1 = df['price'].quantile(0.25)\n",
        "Q3 = df['price'].quantile(0.75)\n",
        "IQR = Q3 - Q1\n",
        "# identify outliers\n",
        "threshold = 1.5\n",
        "outliers = df[(df['price'] < Q1 - threshold * IQR) | (df['price'] > Q3 + threshold * IQR)]\n",
        "outliers['price']\n",
        "print(len(outliers['price']))"
      ],
      "metadata": {
        "colab": {
          "base_uri": "https://localhost:8080/"
        },
        "id": "FESwEmaRe4YB",
        "outputId": "225f9bda-5f69-4dab-a519-fe718559b6da"
      },
      "execution_count": null,
      "outputs": [
        {
          "output_type": "stream",
          "name": "stdout",
          "text": [
            "15\n"
          ]
        }
      ]
    },
    {
      "cell_type": "code",
      "source": [
        "# calculate IQR\n",
        "Q1 = df['bathrooms'].quantile(0.25)\n",
        "Q3 = df['bathrooms'].quantile(0.75)\n",
        "IQR = Q3 - Q1\n",
        "# identify outliers\n",
        "threshold = 1.5\n",
        "outliers = df[(df['bathrooms'] < Q1 - threshold * IQR) | (df['bathrooms'] > Q3 + threshold * IQR)]\n",
        "outliers['bathrooms']\n",
        "len(outliers['bathrooms'])"
      ],
      "metadata": {
        "colab": {
          "base_uri": "https://localhost:8080/"
        },
        "id": "xUHPX0qbKvbc",
        "outputId": "c00c5c83-0818-4c07-8775-1fbdc8076cb4"
      },
      "execution_count": null,
      "outputs": [
        {
          "output_type": "execute_result",
          "data": {
            "text/plain": [
              "1"
            ]
          },
          "metadata": {},
          "execution_count": 205
        }
      ]
    },
    {
      "cell_type": "code",
      "source": [
        "# calculate IQR\n",
        "Q1 = df['stories'].quantile(0.25)\n",
        "Q3 = df['stories'].quantile(0.75)\n",
        "IQR = Q3 - Q1\n",
        "# identify outliers\n",
        "threshold = 1.5\n",
        "outliers = df[(df['stories'] < Q1 - threshold * IQR) | (df['stories'] > Q3 + threshold * IQR)]\n",
        "outliers['stories']\n",
        "len(outliers['stories'])"
      ],
      "metadata": {
        "colab": {
          "base_uri": "https://localhost:8080/"
        },
        "id": "l1anfAVVKvvP",
        "outputId": "47c3d9c3-a859-4f20-86fc-6b5fe6f1d46a"
      },
      "execution_count": null,
      "outputs": [
        {
          "output_type": "execute_result",
          "data": {
            "text/plain": [
              "41"
            ]
          },
          "metadata": {},
          "execution_count": 206
        }
      ]
    },
    {
      "cell_type": "code",
      "source": [
        "# calculate IQR\n",
        "Q1 = df['parking'].quantile(0.25)\n",
        "Q3 = df['parking'].quantile(0.75)\n",
        "IQR = Q3 - Q1\n",
        "# identify outliers\n",
        "threshold = 1.5\n",
        "outliers = df[(df['parking'] < Q1 - threshold * IQR) | (df['parking'] > Q3 + threshold * IQR)]\n",
        "outliers['parking']\n",
        "len(outliers['parking'])"
      ],
      "metadata": {
        "colab": {
          "base_uri": "https://localhost:8080/"
        },
        "id": "-Gz1AUc_Kv7C",
        "outputId": "2c13d9c2-0a6e-4bd7-a78b-ef5404518be8"
      },
      "execution_count": null,
      "outputs": [
        {
          "output_type": "execute_result",
          "data": {
            "text/plain": [
              "12"
            ]
          },
          "metadata": {},
          "execution_count": 207
        }
      ]
    },
    {
      "cell_type": "code",
      "source": [
        "df['area'].isnull().sum()"
      ],
      "metadata": {
        "colab": {
          "base_uri": "https://localhost:8080/"
        },
        "id": "bBx8oXp4fAmo",
        "outputId": "69ea1f25-c07a-462d-f9dc-01d7bea98c2c"
      },
      "execution_count": null,
      "outputs": [
        {
          "output_type": "execute_result",
          "data": {
            "text/plain": [
              "0"
            ]
          },
          "metadata": {},
          "execution_count": 208
        }
      ]
    },
    {
      "cell_type": "code",
      "source": [
        "df['bathrooms'].isnull().sum()"
      ],
      "metadata": {
        "colab": {
          "base_uri": "https://localhost:8080/"
        },
        "id": "JPbcwl_wfaNX",
        "outputId": "1b56baba-11c0-4c8f-ce9a-7617c0478953"
      },
      "execution_count": null,
      "outputs": [
        {
          "output_type": "execute_result",
          "data": {
            "text/plain": [
              "0"
            ]
          },
          "metadata": {},
          "execution_count": 209
        }
      ]
    },
    {
      "cell_type": "code",
      "source": [
        "df['price'].isnull().sum()"
      ],
      "metadata": {
        "colab": {
          "base_uri": "https://localhost:8080/"
        },
        "id": "XYJ-ZkUIfeiA",
        "outputId": "2f5bb2ee-24cc-4004-8e24-8d77218573a4"
      },
      "execution_count": null,
      "outputs": [
        {
          "output_type": "execute_result",
          "data": {
            "text/plain": [
              "0"
            ]
          },
          "metadata": {},
          "execution_count": 210
        }
      ]
    },
    {
      "cell_type": "markdown",
      "source": [
        "### Q2 HISTOGRAMS"
      ],
      "metadata": {
        "id": "n2MR2TCiask4"
      }
    },
    {
      "cell_type": "code",
      "source": [
        "plt.hist(df['area'],color='purple',edgecolor='black')\n",
        "plt.xlabel('Area')\n",
        "plt.ylabel('Freaquency')\n",
        "plt.title('Histogram for area')\n",
        "plt.show()"
      ],
      "metadata": {
        "colab": {
          "base_uri": "https://localhost:8080/",
          "height": 472
        },
        "id": "9PIZAwdmfkL-",
        "outputId": "642a15c0-0df8-4949-9b83-93014fef1e39"
      },
      "execution_count": null,
      "outputs": [
        {
          "output_type": "display_data",
          "data": {
            "text/plain": [
              "<Figure size 640x480 with 1 Axes>"
            ],
            "image/png": "[encoded data removed]"
          },
          "metadata": {}
        }
      ]
    },
    {
      "cell_type": "code",
      "source": [
        "plt.hist(df['price'],color='purple',edgecolor='black')\n",
        "plt.xlabel('Price')\n",
        "plt.ylabel('Freaquency')\n",
        "plt.title('Histogram for price')\n",
        "plt.show()"
      ],
      "metadata": {
        "colab": {
          "base_uri": "https://localhost:8080/",
          "height": 472
        },
        "id": "UC5g5pAqgKjn",
        "outputId": "5d8eeecb-6d96-4618-9120-87ed394ae681"
      },
      "execution_count": null,
      "outputs": [
        {
          "output_type": "display_data",
          "data": {
            "text/plain": [
              "<Figure size 640x480 with 1 Axes>"
            ],
            "image/png": "[encoded data removed]"
          },
          "metadata": {}
        }
      ]
    },
    {
      "cell_type": "code",
      "source": [
        "plt.hist(df['bedrooms'],color='purple',edgecolor='black')\n",
        "plt.xlabel('Bedrooms')\n",
        "plt.ylabel('Freaquency')\n",
        "plt.title('Histogram for bedrooms')\n",
        "plt.show()"
      ],
      "metadata": {
        "colab": {
          "base_uri": "https://localhost:8080/",
          "height": 472
        },
        "id": "Uecycq8DgaCg",
        "outputId": "5cfff6dc-13af-47b6-9d73-0e94ac5abd21"
      },
      "execution_count": null,
      "outputs": [
        {
          "output_type": "display_data",
          "data": {
            "text/plain": [
              "<Figure size 640x480 with 1 Axes>"
            ],
            "image/png": "[encoded data removed]"
          },
          "metadata": {}
        }
      ]
    },
    {
      "cell_type": "code",
      "source": [
        "plt.hist(df['bathrooms'],color='purple',edgecolor='black')\n",
        "plt.xlabel('Bathrooms')\n",
        "plt.ylabel('Freaquency')\n",
        "plt.title('Histogram for bathrooms')\n",
        "plt.show()"
      ],
      "metadata": {
        "colab": {
          "base_uri": "https://localhost:8080/",
          "height": 472
        },
        "id": "OVvFhWsOgkwL",
        "outputId": "33693fb2-7ccc-43e2-e9d4-c224f0ab9ce3"
      },
      "execution_count": null,
      "outputs": [
        {
          "output_type": "display_data",
          "data": {
            "text/plain": [
              "<Figure size 640x480 with 1 Axes>"
            ],
            "image/png": "[encoded data removed]"
          },
          "metadata": {}
        }
      ]
    },
    {
      "cell_type": "code",
      "source": [
        "plt.hist(df['stories'],color='purple',edgecolor='black')\n",
        "plt.xlabel('Stories')\n",
        "plt.ylabel('Freaquency')\n",
        "plt.title('Histogram for stories')\n",
        "plt.show()"
      ],
      "metadata": {
        "colab": {
          "base_uri": "https://localhost:8080/",
          "height": 472
        },
        "id": "6sRyekgJhilU",
        "outputId": "9c807eed-fb3e-42a0-99ee-b2c754731d29"
      },
      "execution_count": null,
      "outputs": [
        {
          "output_type": "display_data",
          "data": {
            "text/plain": [
              "<Figure size 640x480 with 1 Axes>"
            ],
            "image/png": "[encoded data removed]"
          },
          "metadata": {}
        }
      ]
    },
    {
      "cell_type": "code",
      "source": [
        "plt.hist(df['parking'],color='purple',edgecolor='black')\n",
        "plt.xlabel('Parking')\n",
        "plt.ylabel('Freaquency')\n",
        "plt.title('Histogram for parking')\n",
        "plt.show()\n"
      ],
      "metadata": {
        "colab": {
          "base_uri": "https://localhost:8080/",
          "height": 472
        },
        "id": "yEHP1uVHlDdZ",
        "outputId": "7b9b6255-2b5f-4d46-8fe5-0a7fcab924b1"
      },
      "execution_count": null,
      "outputs": [
        {
          "output_type": "display_data",
          "data": {
            "text/plain": [
              "<Figure size 640x480 with 1 Axes>"
            ],
            "image/png": "[encoded data removed]"
          },
          "metadata": {}
        }
      ]
    },
    {
      "cell_type": "markdown",
      "source": [
        "### Q4 OUTLIERS"
      ],
      "metadata": {
        "id": "H-GTxENmazBe"
      }
    },
    {
      "cell_type": "code",
      "source": [
        "Q1 = df['area'].quantile(0.25)\n",
        "Q3 = df['area'].quantile(0.75)\n",
        "IQR = Q3 - Q1\n",
        "threshold = 1.5\n",
        "outliers = df[(df['area'] < Q1 - threshold * IQR) | (df['area'] > Q3 + threshold * IQR)]\n",
        "mean_value=df['area'].mean()\n",
        "df.loc[df['area'].isin(outliers['area']), 'area'] = mean_value\n",
        "outliers = df[(df['area'] < Q1 - threshold * IQR) | (df['area'] > Q3 + threshold * IQR)]\n",
        "print(\"Outliers after smoothing them: \")\n",
        "print(outliers['area'])\n",
        "len(outliers['area'])"
      ],
      "metadata": {
        "colab": {
          "base_uri": "https://localhost:8080/"
        },
        "id": "SskYcLKKDVP0",
        "outputId": "de411e61-352d-4061-ff3d-5cccb61782ce"
      },
      "execution_count": null,
      "outputs": [
        {
          "output_type": "stream",
          "name": "stdout",
          "text": [
            "Outliers after smoothing them: \n",
            "Series([], Name: area, dtype: float64)\n"
          ]
        },
        {
          "output_type": "execute_result",
          "data": {
            "text/plain": [
              "0"
            ]
          },
          "metadata": {},
          "execution_count": 219
        }
      ]
    },
    {
      "cell_type": "code",
      "source": [
        "Q1 = df['price'].quantile(0.25)\n",
        "Q3 = df['price'].quantile(0.75)\n",
        "IQR = Q3 - Q1\n",
        "threshold = 1.5\n",
        "outliers = df[(df['price'] < Q1 - threshold * IQR) | (df['price'] > Q3 + threshold * IQR)]\n",
        "mean_value=df['price'].mean()\n",
        "df.loc[df['price'].isin(outliers['price']), 'price'] = mean_value\n",
        "outliers = df[(df['price'] < Q1 - threshold * IQR) | (df['price'] > Q3 + threshold * IQR)]\n",
        "print(\"Outliers after smoothing them: \")\n",
        "print(outliers['price'])\n",
        "len(outliers['price'])"
      ],
      "metadata": {
        "colab": {
          "base_uri": "https://localhost:8080/"
        },
        "id": "BqcwEcU-J3Kb",
        "outputId": "bd8cf907-4755-4934-ce60-b7c0728d0f50"
      },
      "execution_count": null,
      "outputs": [
        {
          "output_type": "stream",
          "name": "stdout",
          "text": [
            "Outliers after smoothing them: \n",
            "Series([], Name: price, dtype: float64)\n"
          ]
        },
        {
          "output_type": "execute_result",
          "data": {
            "text/plain": [
              "0"
            ]
          },
          "metadata": {},
          "execution_count": 220
        }
      ]
    },
    {
      "cell_type": "code",
      "source": [
        "Q1 = df['bedrooms'].quantile(0.25)\n",
        "Q3 = df['bedrooms'].quantile(0.75)\n",
        "IQR = Q3 - Q1\n",
        "threshold = 1.5\n",
        "outliers = df[(df['bedrooms'] < Q1 - threshold * IQR) | (df['bedrooms'] > Q3 + threshold * IQR)]\n",
        "mode_value=df['bedrooms'].mode()\n",
        "df.loc[df['bedrooms'].isin(outliers['bedrooms']), 'bedrooms'] = mode_value\n",
        "outliers = df[(df['bedrooms'] < Q1 - threshold * IQR) | (df['bedrooms'] > Q3 + threshold * IQR)]\n",
        "print(\"Outliers after smoothing them: \")\n",
        "print(outliers['bedrooms'])\n",
        "len(outliers['bedrooms'])"
      ],
      "metadata": {
        "colab": {
          "base_uri": "https://localhost:8080/"
        },
        "id": "8KbpecmMNz0-",
        "outputId": "c3d3280c-2684-47f3-c337-e3f487ae6ba0"
      },
      "execution_count": null,
      "outputs": [
        {
          "output_type": "stream",
          "name": "stdout",
          "text": [
            "Series([], Name: bedrooms, dtype: float64)\n"
          ]
        },
        {
          "output_type": "execute_result",
          "data": {
            "text/plain": [
              "0"
            ]
          },
          "metadata": {},
          "execution_count": 156
        }
      ]
    },
    {
      "cell_type": "code",
      "source": [
        "Q1 = df['bathrooms'].quantile(0.25)\n",
        "Q3 = df['bathrooms'].quantile(0.75)\n",
        "IQR = Q3 - Q1\n",
        "threshold = 1.5\n",
        "outliers = df[(df['bathrooms'] < Q1 - threshold * IQR) | (df['bathrooms'] > Q3 + threshold * IQR)]\n",
        "mode_value=df['bathrooms'].mode()\n",
        "df.loc[df['bathrooms'].isin(outliers['bathrooms']), 'bathrooms'] = mode_value\n",
        "print(outliers['bathrooms'])\n",
        "len(outliers['bathrooms'])"
      ],
      "metadata": {
        "colab": {
          "base_uri": "https://localhost:8080/"
        },
        "id": "gkJi38LmN0Z8",
        "outputId": "b020c43e-b82d-4465-a70f-52bb8ec5d384"
      },
      "execution_count": null,
      "outputs": [
        {
          "output_type": "stream",
          "name": "stdout",
          "text": [
            "Series([], Name: bathrooms, dtype: float64)\n"
          ]
        },
        {
          "output_type": "execute_result",
          "data": {
            "text/plain": [
              "0"
            ]
          },
          "metadata": {},
          "execution_count": 158
        }
      ]
    },
    {
      "cell_type": "code",
      "source": [
        "Q1 = df['stories'].quantile(0.25)\n",
        "Q3 = df['stories'].quantile(0.75)\n",
        "IQR = Q3 - Q1\n",
        "threshold = 1.5\n",
        "outliers = df[(df['stories'] < Q1 - threshold * IQR) | (df['stories'] > Q3 + threshold * IQR)]\n",
        "df_clean = df[~df.index.isin(outliers['stories'].index)]\n",
        "outliers = df[(df['stories'] < Q1 - threshold * IQR) | (df['stories'] > Q3 + threshold * IQR)]\n",
        "print(\"Rows dropped after smoothing:\")\n",
        "print(len(df_clean))\n",
        "#the rows are dropped containg outliers"
      ],
      "metadata": {
        "colab": {
          "base_uri": "https://localhost:8080/"
        },
        "id": "aSYWHZ0fN0nZ",
        "outputId": "397b1178-097b-476f-e58b-f9a5c56897f5"
      },
      "execution_count": null,
      "outputs": [
        {
          "output_type": "stream",
          "name": "stdout",
          "text": [
            "Rows dropped after smoothing:\n",
            "504\n"
          ]
        }
      ]
    },
    {
      "cell_type": "code",
      "source": [
        "Q1 = df['parking'].quantile(0.25)\n",
        "Q3 = df['parking'].quantile(0.75)\n",
        "IQR = Q3 - Q1\n",
        "threshold = 1.5\n",
        "outliers = df[(df['parking'] < Q1 - threshold * IQR) | (df['parking'] > Q3 + threshold * IQR)]\n",
        "mode_value=df['parking'].mode()\n",
        "df.loc[df['parking'].isin(outliers['parking']), 'parking'] = mode_value\n",
        "outliers = df[(df['parking'] < Q1 - threshold * IQR) | (df['parking'] > Q3 + threshold * IQR)]\n",
        "print(\"Outliers after smoothing data:\")\n",
        "print(outliers['parking'])\n",
        "len(outliers['parking'])"
      ],
      "metadata": {
        "colab": {
          "base_uri": "https://localhost:8080/"
        },
        "id": "R0y5SSY2N02c",
        "outputId": "6093644b-ad48-4842-cfe0-667520594ab2"
      },
      "execution_count": null,
      "outputs": [
        {
          "output_type": "stream",
          "name": "stdout",
          "text": [
            "Outliers after smoothing data:\n",
            "Series([], Name: parking, dtype: float64)\n"
          ]
        },
        {
          "output_type": "execute_result",
          "data": {
            "text/plain": [
              "0"
            ]
          },
          "metadata": {},
          "execution_count": 249
        }
      ]
    },
    {
      "cell_type": "markdown",
      "source": [
        "# **Analysis for Titanic.csv**"
      ],
      "metadata": {
        "id": "em4mRWWMlJeu"
      }
    },
    {
      "cell_type": "markdown",
      "source": [
        "### Q1 DATA PREPROCESSING"
      ],
      "metadata": {
        "id": "4UfPRoGHZ4as"
      }
    },
    {
      "cell_type": "code",
      "source": [
        "df=pd.read_csv('/content/titanic.csv',index_col='PassengerId')\n",
        "df.head()"
      ],
      "metadata": {
        "colab": {
          "base_uri": "https://localhost:8080/",
          "height": 238
        },
        "id": "nqtwtkwClT7D",
        "outputId": "613d3927-7bc5-48de-992c-e75b4e319a58"
      },
      "execution_count": null,
      "outputs": [
        {
          "output_type": "execute_result",
          "data": {
            "text/plain": [
              "             Survived  Pclass  \\\n",
              "PassengerId                     \n",
              "1                   0       3   \n",
              "2                   1       1   \n",
              "3                   1       3   \n",
              "4                   1       1   \n",
              "5                   0       3   \n",
              "\n",
              "                                                          Name     Sex   Age  \\\n",
              "PassengerId                                                                    \n",
              "1                                      Braund, Mr. Owen Harris    male  22.0   \n",
              "2            Cumings, Mrs. John Bradley (Florence Briggs Th...  female  38.0   \n",
              "3                                       Heikkinen, Miss. Laina  female  26.0   \n",
              "4                 Futrelle, Mrs. Jacques Heath (Lily May Peel)  female  35.0   \n",
              "5                                     Allen, Mr. William Henry    male  35.0   \n",
              "\n",
              "             SibSp  Parch            Ticket     Fare Cabin Embarked  \n",
              "PassengerId                                                          \n",
              "1                1      0         A/5 21171   7.2500   NaN        S  \n",
              "2                1      0          PC 17599  71.2833   C85        C  \n",
              "3                0      0  STON/O2. 3101282   7.9250   NaN        S  \n",
              "4                1      0            113803  53.1000  C123        S  \n",
              "5                0      0            373450   8.0500   NaN        S  "
            ],
            "text/html": [
              "\n",
              "  <div id=\"df-44fcbd52-ec74-4036-b426-2f6d676981cb\" class=\"colab-df-container\">\n",
              "    <div>\n",
              "<style scoped>\n",
              "    .dataframe tbody tr th:only-of-type {\n",
              "        vertical-align: middle;\n",
              "    }\n",
              "\n",
              "    .dataframe tbody tr th {\n",
              "        vertical-align: top;\n",
              "    }\n",
              "\n",
              "    .dataframe thead th {\n",
              "        text-align: right;\n",
              "    }\n",
              "</style>\n",
              "<table border=\"1\" class=\"dataframe\">\n",
              "  <thead>\n",
              "    <tr style=\"text-align: right;\">\n",
              "      <th></th>\n",
              "      <th>Survived</th>\n",
              "      <th>Pclass</th>\n",
              "      <th>Name</th>\n",
              "      <th>Sex</th>\n",
              "      <th>Age</th>\n",
              "      <th>SibSp</th>\n",
              "      <th>Parch</th>\n",
              "      <th>Ticket</th>\n",
              "      <th>Fare</th>\n",
              "      <th>Cabin</th>\n",
              "      <th>Embarked</th>\n",
              "    </tr>\n",
              "    <tr>\n",
              "      <th>PassengerId</th>\n",
              "      <th></th>\n",
              "      <th></th>\n",
              "      <th></th>\n",
              "      <th></th>\n",
              "      <th></th>\n",
              "      <th></th>\n",
              "      <th></th>\n",
              "      <th></th>\n",
              "      <th></th>\n",
              "      <th></th>\n",
              "      <th></th>\n",
              "    </tr>\n",
              "  </thead>\n",
              "  <tbody>\n",
              "    <tr>\n",
              "      <th>1</th>\n",
              "      <td>0</td>\n",
              "      <td>3</td>\n",
              "      <td>Braund, Mr. Owen Harris</td>\n",
              "      <td>male</td>\n",
              "      <td>22.0</td>\n",
              "      <td>1</td>\n",
              "      <td>0</td>\n",
              "      <td>A/5 21171</td>\n",
              "      <td>7.2500</td>\n",
              "      <td>NaN</td>\n",
              "      <td>S</td>\n",
              "    </tr>\n",
              "    <tr>\n",
              "      <th>2</th>\n",
              "      <td>1</td>\n",
              "      <td>1</td>\n",
              "      <td>Cumings, Mrs. John Bradley (Florence Briggs Th...</td>\n",
              "      <td>female</td>\n",
              "      <td>38.0</td>\n",
              "      <td>1</td>\n",
              "      <td>0</td>\n",
              "      <td>PC 17599</td>\n",
              "      <td>71.2833</td>\n",
              "      <td>C85</td>\n",
              "      <td>C</td>\n",
              "    </tr>\n",
              "    <tr>\n",
              "      <th>3</th>\n",
              "      <td>1</td>\n",
              "      <td>3</td>\n",
              "      <td>Heikkinen, Miss. Laina</td>\n",
              "      <td>female</td>\n",
              "      <td>26.0</td>\n",
              "      <td>0</td>\n",
              "      <td>0</td>\n",
              "      <td>STON/O2. 3101282</td>\n",
              "      <td>7.9250</td>\n",
              "      <td>NaN</td>\n",
              "      <td>S</td>\n",
              "    </tr>\n",
              "    <tr>\n",
              "      <th>4</th>\n",
              "      <td>1</td>\n",
              "      <td>1</td>\n",
              "      <td>Futrelle, Mrs. Jacques Heath (Lily May Peel)</td>\n",
              "      <td>female</td>\n",
              "      <td>35.0</td>\n",
              "      <td>1</td>\n",
              "      <td>0</td>\n",
              "      <td>113803</td>\n",
              "      <td>53.1000</td>\n",
              "      <td>C123</td>\n",
              "      <td>S</td>\n",
              "    </tr>\n",
              "    <tr>\n",
              "      <th>5</th>\n",
              "      <td>0</td>\n",
              "      <td>3</td>\n",
              "      <td>Allen, Mr. William Henry</td>\n",
              "      <td>male</td>\n",
              "      <td>35.0</td>\n",
              "      <td>0</td>\n",
              "      <td>0</td>\n",
              "      <td>373450</td>\n",
              "      <td>8.0500</td>\n",
              "      <td>NaN</td>\n",
              "      <td>S</td>\n",
              "    </tr>\n",
              "  </tbody>\n",
              "</table>\n",
              "</div>\n",
              "    <div class=\"colab-df-buttons\">\n",
              "\n",
              "  <div class=\"colab-df-container\">\n",
              "    <button class=\"colab-df-convert\" onclick=\"convertToInteractive('df-44fcbd52-ec74-4036-b426-2f6d676981cb')\"\n",
              "            title=\"Convert this dataframe to an interactive table.\"\n",
              "            style=\"display:none;\">\n",
              "\n",
              "  <svg xmlns=\"http://www.w3.org/2000/svg\" height=\"24px\" viewBox=\"0 -960 960 960\">\n",
              "    <path d=\"M120-120v-720h720v720H120Zm60-500h600v-160H180v160Zm220 220h160v-160H400v160Zm0 220h160v-160H400v160ZM180-400h160v-160H180v160Zm440 0h160v-160H620v160ZM180-180h160v-160H180v160Zm440 0h160v-160H620v160Z\"/>\n",
              "  </svg>\n",
              "    </button>\n",
              "\n",
              "  <style>\n",
              "    .colab-df-container {\n",
              "      display:flex;\n",
              "      gap: 12px;\n",
              "    }\n",
              "\n",
              "    .colab-df-convert {\n",
              "      background-color: #E8F0FE;\n",
              "      border: none;\n",
              "      border-radius: 50%;\n",
              "      cursor: pointer;\n",
              "      display: none;\n",
              "      fill: #1967D2;\n",
              "      height: 32px;\n",
              "      padding: 0 0 0 0;\n",
              "      width: 32px;\n",
              "    }\n",
              "\n",
              "    .colab-df-convert:hover {\n",
              "      background-color: #E2EBFA;\n",
              "      box-shadow: 0px 1px 2px rgba(60, 64, 67, 0.3), 0px 1px 3px 1px rgba(60, 64, 67, 0.15);\n",
              "      fill: #174EA6;\n",
              "    }\n",
              "\n",
              "    .colab-df-buttons div {\n",
              "      margin-bottom: 4px;\n",
              "    }\n",
              "\n",
              "    [theme=dark] .colab-df-convert {\n",
              "      background-color: #3B4455;\n",
              "      fill: #D2E3FC;\n",
              "    }\n",
              "\n",
              "    [theme=dark] .colab-df-convert:hover {\n",
              "      background-color: #434B5C;\n",
              "      box-shadow: 0px 1px 3px 1px rgba(0, 0, 0, 0.15);\n",
              "      filter: drop-shadow(0px 1px 2px rgba(0, 0, 0, 0.3));\n",
              "      fill: #FFFFFF;\n",
              "    }\n",
              "  </style>\n",
              "\n",
              "    <script>\n",
              "      const buttonEl =\n",
              "        document.querySelector('#df-44fcbd52-ec74-4036-b426-2f6d676981cb button.colab-df-convert');\n",
              "      buttonEl.style.display =\n",
              "        google.colab.kernel.accessAllowed ? 'block' : 'none';\n",
              "\n",
              "      async function convertToInteractive(key) {\n",
              "        const element = document.querySelector('#df-44fcbd52-ec74-4036-b426-2f6d676981cb');\n",
              "        const dataTable =\n",
              "          await google.colab.kernel.invokeFunction('convertToInteractive',\n",
              "                                                    [key], {});\n",
              "        if (!dataTable) return;\n",
              "\n",
              "        const docLinkHtml = 'Like what you see? Visit the ' +\n",
              "          '<a target=\"_blank\" href=https://colab.research.google.com/notebooks/data_table.ipynb>data table notebook</a>'\n",
              "          + ' to learn more about interactive tables.';\n",
              "        element.innerHTML = '';\n",
              "        dataTable['output_type'] = 'display_data';\n",
              "        await google.colab.output.renderOutput(dataTable, element);\n",
              "        const docLink = document.createElement('div');\n",
              "        docLink.innerHTML = docLinkHtml;\n",
              "        element.appendChild(docLink);\n",
              "      }\n",
              "    </script>\n",
              "  </div>\n",
              "\n",
              "\n",
              "<div id=\"df-9b4edc44-bb8a-4e56-9d4f-ddc5b4f70393\">\n",
              "  <button class=\"colab-df-quickchart\" onclick=\"quickchart('df-9b4edc44-bb8a-4e56-9d4f-ddc5b4f70393')\"\n",
              "            title=\"Suggest charts.\"\n",
              "            style=\"display:none;\">\n",
              "\n",
              "<svg xmlns=\"http://www.w3.org/2000/svg\" height=\"24px\"viewBox=\"0 0 24 24\"\n",
              "     width=\"24px\">\n",
              "    <g>\n",
              "        <path d=\"M19 3H5c-1.1 0-2 .9-2 2v14c0 1.1.9 2 2 2h14c1.1 0 2-.9 2-2V5c0-1.1-.9-2-2-2zM9 17H7v-7h2v7zm4 0h-2V7h2v10zm4 0h-2v-4h2v4z\"/>\n",
              "    </g>\n",
              "</svg>\n",
              "  </button>\n",
              "\n",
              "<style>\n",
              "  .colab-df-quickchart {\n",
              "      --bg-color: #E8F0FE;\n",
              "      --fill-color: #1967D2;\n",
              "      --hover-bg-color: #E2EBFA;\n",
              "      --hover-fill-color: #174EA6;\n",
              "      --disabled-fill-color: #AAA;\n",
              "      --disabled-bg-color: #DDD;\n",
              "  }\n",
              "\n",
              "  [theme=dark] .colab-df-quickchart {\n",
              "      --bg-color: #3B4455;\n",
              "      --fill-color: #D2E3FC;\n",
              "      --hover-bg-color: #434B5C;\n",
              "      --hover-fill-color: #FFFFFF;\n",
              "      --disabled-bg-color: #3B4455;\n",
              "      --disabled-fill-color: #666;\n",
              "  }\n",
              "\n",
              "  .colab-df-quickchart {\n",
              "    background-color: var(--bg-color);\n",
              "    border: none;\n",
              "    border-radius: 50%;\n",
              "    cursor: pointer;\n",
              "    display: none;\n",
              "    fill: var(--fill-color);\n",
              "    height: 32px;\n",
              "    padding: 0;\n",
              "    width: 32px;\n",
              "  }\n",
              "\n",
              "  .colab-df-quickchart:hover {\n",
              "    background-color: var(--hover-bg-color);\n",
              "    box-shadow: 0 1px 2px rgba(60, 64, 67, 0.3), 0 1px 3px 1px rgba(60, 64, 67, 0.15);\n",
              "    fill: var(--button-hover-fill-color);\n",
              "  }\n",
              "\n",
              "  .colab-df-quickchart-complete:disabled,\n",
              "  .colab-df-quickchart-complete:disabled:hover {\n",
              "    background-color: var(--disabled-bg-color);\n",
              "    fill: var(--disabled-fill-color);\n",
              "    box-shadow: none;\n",
              "  }\n",
              "\n",
              "  .colab-df-spinner {\n",
              "    border: 2px solid var(--fill-color);\n",
              "    border-color: transparent;\n",
              "    border-bottom-color: var(--fill-color);\n",
              "    animation:\n",
              "      spin 1s steps(1) infinite;\n",
              "  }\n",
              "\n",
              "  @keyframes spin {\n",
              "    0% {\n",
              "      border-color: transparent;\n",
              "      border-bottom-color: var(--fill-color);\n",
              "      border-left-color: var(--fill-color);\n",
              "    }\n",
              "    20% {\n",
              "      border-color: transparent;\n",
              "      border-left-color: var(--fill-color);\n",
              "      border-top-color: var(--fill-color);\n",
              "    }\n",
              "    30% {\n",
              "      border-color: transparent;\n",
              "      border-left-color: var(--fill-color);\n",
              "      border-top-color: var(--fill-color);\n",
              "      border-right-color: var(--fill-color);\n",
              "    }\n",
              "    40% {\n",
              "      border-color: transparent;\n",
              "      border-right-color: var(--fill-color);\n",
              "      border-top-color: var(--fill-color);\n",
              "    }\n",
              "    60% {\n",
              "      border-color: transparent;\n",
              "      border-right-color: var(--fill-color);\n",
              "    }\n",
              "    80% {\n",
              "      border-color: transparent;\n",
              "      border-right-color: var(--fill-color);\n",
              "      border-bottom-color: var(--fill-color);\n",
              "    }\n",
              "    90% {\n",
              "      border-color: transparent;\n",
              "      border-bottom-color: var(--fill-color);\n",
              "    }\n",
              "  }\n",
              "</style>\n",
              "\n",
              "  <script>\n",
              "    async function quickchart(key) {\n",
              "      const quickchartButtonEl =\n",
              "        document.querySelector('#' + key + ' button');\n",
              "      quickchartButtonEl.disabled = true;  // To prevent multiple clicks.\n",
              "      quickchartButtonEl.classList.add('colab-df-spinner');\n",
              "      try {\n",
              "        const charts = await google.colab.kernel.invokeFunction(\n",
              "            'suggestCharts', [key], {});\n",
              "      } catch (error) {\n",
              "        console.error('Error during call to suggestCharts:', error);\n",
              "      }\n",
              "      quickchartButtonEl.classList.remove('colab-df-spinner');\n",
              "      quickchartButtonEl.classList.add('colab-df-quickchart-complete');\n",
              "    }\n",
              "    (() => {\n",
              "      let quickchartButtonEl =\n",
              "        document.querySelector('#df-9b4edc44-bb8a-4e56-9d4f-ddc5b4f70393 button');\n",
              "      quickchartButtonEl.style.display =\n",
              "        google.colab.kernel.accessAllowed ? 'block' : 'none';\n",
              "    })();\n",
              "  </script>\n",
              "</div>\n",
              "    </div>\n",
              "  </div>\n"
            ]
          },
          "metadata": {},
          "execution_count": 222
        }
      ]
    },
    {
      "cell_type": "code",
      "source": [
        "df.describe()"
      ],
      "metadata": {
        "colab": {
          "base_uri": "https://localhost:8080/",
          "height": 300
        },
        "id": "qnzu2hN2qkNR",
        "outputId": "be3e77bf-4459-44ed-8707-d1703e95f553"
      },
      "execution_count": null,
      "outputs": [
        {
          "output_type": "execute_result",
          "data": {
            "text/plain": [
              "         Survived      Pclass         Age       SibSp       Parch        Fare\n",
              "count  891.000000  891.000000  714.000000  891.000000  891.000000  891.000000\n",
              "mean     0.383838    2.308642   29.699118    0.523008    0.381594   32.204208\n",
              "std      0.486592    0.836071   14.526497    1.102743    0.806057   49.693429\n",
              "min      0.000000    1.000000    0.420000    0.000000    0.000000    0.000000\n",
              "25%      0.000000    2.000000   20.125000    0.000000    0.000000    7.910400\n",
              "50%      0.000000    3.000000   28.000000    0.000000    0.000000   14.454200\n",
              "75%      1.000000    3.000000   38.000000    1.000000    0.000000   31.000000\n",
              "max      1.000000    3.000000   80.000000    8.000000    6.000000  512.329200"
            ],
            "text/html": [
              "\n",
              "  <div id=\"df-eccfc1ce-e1ef-4301-a449-aacc0c2e765d\" class=\"colab-df-container\">\n",
              "    <div>\n",
              "<style scoped>\n",
              "    .dataframe tbody tr th:only-of-type {\n",
              "        vertical-align: middle;\n",
              "    }\n",
              "\n",
              "    .dataframe tbody tr th {\n",
              "        vertical-align: top;\n",
              "    }\n",
              "\n",
              "    .dataframe thead th {\n",
              "        text-align: right;\n",
              "    }\n",
              "</style>\n",
              "<table border=\"1\" class=\"dataframe\">\n",
              "  <thead>\n",
              "    <tr style=\"text-align: right;\">\n",
              "      <th></th>\n",
              "      <th>Survived</th>\n",
              "      <th>Pclass</th>\n",
              "      <th>Age</th>\n",
              "      <th>SibSp</th>\n",
              "      <th>Parch</th>\n",
              "      <th>Fare</th>\n",
              "    </tr>\n",
              "  </thead>\n",
              "  <tbody>\n",
              "    <tr>\n",
              "      <th>count</th>\n",
              "      <td>891.000000</td>\n",
              "      <td>891.000000</td>\n",
              "      <td>714.000000</td>\n",
              "      <td>891.000000</td>\n",
              "      <td>891.000000</td>\n",
              "      <td>891.000000</td>\n",
              "    </tr>\n",
              "    <tr>\n",
              "      <th>mean</th>\n",
              "      <td>0.383838</td>\n",
              "      <td>2.308642</td>\n",
              "      <td>29.699118</td>\n",
              "      <td>0.523008</td>\n",
              "      <td>0.381594</td>\n",
              "      <td>32.204208</td>\n",
              "    </tr>\n",
              "    <tr>\n",
              "      <th>std</th>\n",
              "      <td>0.486592</td>\n",
              "      <td>0.836071</td>\n",
              "      <td>14.526497</td>\n",
              "      <td>1.102743</td>\n",
              "      <td>0.806057</td>\n",
              "      <td>49.693429</td>\n",
              "    </tr>\n",
              "    <tr>\n",
              "      <th>min</th>\n",
              "      <td>0.000000</td>\n",
              "      <td>1.000000</td>\n",
              "      <td>0.420000</td>\n",
              "      <td>0.000000</td>\n",
              "      <td>0.000000</td>\n",
              "      <td>0.000000</td>\n",
              "    </tr>\n",
              "    <tr>\n",
              "      <th>25%</th>\n",
              "      <td>0.000000</td>\n",
              "      <td>2.000000</td>\n",
              "      <td>20.125000</td>\n",
              "      <td>0.000000</td>\n",
              "      <td>0.000000</td>\n",
              "      <td>7.910400</td>\n",
              "    </tr>\n",
              "    <tr>\n",
              "      <th>50%</th>\n",
              "      <td>0.000000</td>\n",
              "      <td>3.000000</td>\n",
              "      <td>28.000000</td>\n",
              "      <td>0.000000</td>\n",
              "      <td>0.000000</td>\n",
              "      <td>14.454200</td>\n",
              "    </tr>\n",
              "    <tr>\n",
              "      <th>75%</th>\n",
              "      <td>1.000000</td>\n",
              "      <td>3.000000</td>\n",
              "      <td>38.000000</td>\n",
              "      <td>1.000000</td>\n",
              "      <td>0.000000</td>\n",
              "      <td>31.000000</td>\n",
              "    </tr>\n",
              "    <tr>\n",
              "      <th>max</th>\n",
              "      <td>1.000000</td>\n",
              "      <td>3.000000</td>\n",
              "      <td>80.000000</td>\n",
              "      <td>8.000000</td>\n",
              "      <td>6.000000</td>\n",
              "      <td>512.329200</td>\n",
              "    </tr>\n",
              "  </tbody>\n",
              "</table>\n",
              "</div>\n",
              "    <div class=\"colab-df-buttons\">\n",
              "\n",
              "  <div class=\"colab-df-container\">\n",
              "    <button class=\"colab-df-convert\" onclick=\"convertToInteractive('df-eccfc1ce-e1ef-4301-a449-aacc0c2e765d')\"\n",
              "            title=\"Convert this dataframe to an interactive table.\"\n",
              "            style=\"display:none;\">\n",
              "\n",
              "  <svg xmlns=\"http://www.w3.org/2000/svg\" height=\"24px\" viewBox=\"0 -960 960 960\">\n",
              "    <path d=\"M120-120v-720h720v720H120Zm60-500h600v-160H180v160Zm220 220h160v-160H400v160Zm0 220h160v-160H400v160ZM180-400h160v-160H180v160Zm440 0h160v-160H620v160ZM180-180h160v-160H180v160Zm440 0h160v-160H620v160Z\"/>\n",
              "  </svg>\n",
              "    </button>\n",
              "\n",
              "  <style>\n",
              "    .colab-df-container {\n",
              "      display:flex;\n",
              "      gap: 12px;\n",
              "    }\n",
              "\n",
              "    .colab-df-convert {\n",
              "      background-color: #E8F0FE;\n",
              "      border: none;\n",
              "      border-radius: 50%;\n",
              "      cursor: pointer;\n",
              "      display: none;\n",
              "      fill: #1967D2;\n",
              "      height: 32px;\n",
              "      padding: 0 0 0 0;\n",
              "      width: 32px;\n",
              "    }\n",
              "\n",
              "    .colab-df-convert:hover {\n",
              "      background-color: #E2EBFA;\n",
              "      box-shadow: 0px 1px 2px rgba(60, 64, 67, 0.3), 0px 1px 3px 1px rgba(60, 64, 67, 0.15);\n",
              "      fill: #174EA6;\n",
              "    }\n",
              "\n",
              "    .colab-df-buttons div {\n",
              "      margin-bottom: 4px;\n",
              "    }\n",
              "\n",
              "    [theme=dark] .colab-df-convert {\n",
              "      background-color: #3B4455;\n",
              "      fill: #D2E3FC;\n",
              "    }\n",
              "\n",
              "    [theme=dark] .colab-df-convert:hover {\n",
              "      background-color: #434B5C;\n",
              "      box-shadow: 0px 1px 3px 1px rgba(0, 0, 0, 0.15);\n",
              "      filter: drop-shadow(0px 1px 2px rgba(0, 0, 0, 0.3));\n",
              "      fill: #FFFFFF;\n",
              "    }\n",
              "  </style>\n",
              "\n",
              "    <script>\n",
              "      const buttonEl =\n",
              "        document.querySelector('#df-eccfc1ce-e1ef-4301-a449-aacc0c2e765d button.colab-df-convert');\n",
              "      buttonEl.style.display =\n",
              "        google.colab.kernel.accessAllowed ? 'block' : 'none';\n",
              "\n",
              "      async function convertToInteractive(key) {\n",
              "        const element = document.querySelector('#df-eccfc1ce-e1ef-4301-a449-aacc0c2e765d');\n",
              "        const dataTable =\n",
              "          await google.colab.kernel.invokeFunction('convertToInteractive',\n",
              "                                                    [key], {});\n",
              "        if (!dataTable) return;\n",
              "\n",
              "        const docLinkHtml = 'Like what you see? Visit the ' +\n",
              "          '<a target=\"_blank\" href=https://colab.research.google.com/notebooks/data_table.ipynb>data table notebook</a>'\n",
              "          + ' to learn more about interactive tables.';\n",
              "        element.innerHTML = '';\n",
              "        dataTable['output_type'] = 'display_data';\n",
              "        await google.colab.output.renderOutput(dataTable, element);\n",
              "        const docLink = document.createElement('div');\n",
              "        docLink.innerHTML = docLinkHtml;\n",
              "        element.appendChild(docLink);\n",
              "      }\n",
              "    </script>\n",
              "  </div>\n",
              "\n",
              "\n",
              "<div id=\"df-a3a068a2-83a2-47d6-851b-380056c2526a\">\n",
              "  <button class=\"colab-df-quickchart\" onclick=\"quickchart('df-a3a068a2-83a2-47d6-851b-380056c2526a')\"\n",
              "            title=\"Suggest charts.\"\n",
              "            style=\"display:none;\">\n",
              "\n",
              "<svg xmlns=\"http://www.w3.org/2000/svg\" height=\"24px\"viewBox=\"0 0 24 24\"\n",
              "     width=\"24px\">\n",
              "    <g>\n",
              "        <path d=\"M19 3H5c-1.1 0-2 .9-2 2v14c0 1.1.9 2 2 2h14c1.1 0 2-.9 2-2V5c0-1.1-.9-2-2-2zM9 17H7v-7h2v7zm4 0h-2V7h2v10zm4 0h-2v-4h2v4z\"/>\n",
              "    </g>\n",
              "</svg>\n",
              "  </button>\n",
              "\n",
              "<style>\n",
              "  .colab-df-quickchart {\n",
              "      --bg-color: #E8F0FE;\n",
              "      --fill-color: #1967D2;\n",
              "      --hover-bg-color: #E2EBFA;\n",
              "      --hover-fill-color: #174EA6;\n",
              "      --disabled-fill-color: #AAA;\n",
              "      --disabled-bg-color: #DDD;\n",
              "  }\n",
              "\n",
              "  [theme=dark] .colab-df-quickchart {\n",
              "      --bg-color: #3B4455;\n",
              "      --fill-color: #D2E3FC;\n",
              "      --hover-bg-color: #434B5C;\n",
              "      --hover-fill-color: #FFFFFF;\n",
              "      --disabled-bg-color: #3B4455;\n",
              "      --disabled-fill-color: #666;\n",
              "  }\n",
              "\n",
              "  .colab-df-quickchart {\n",
              "    background-color: var(--bg-color);\n",
              "    border: none;\n",
              "    border-radius: 50%;\n",
              "    cursor: pointer;\n",
              "    display: none;\n",
              "    fill: var(--fill-color);\n",
              "    height: 32px;\n",
              "    padding: 0;\n",
              "    width: 32px;\n",
              "  }\n",
              "\n",
              "  .colab-df-quickchart:hover {\n",
              "    background-color: var(--hover-bg-color);\n",
              "    box-shadow: 0 1px 2px rgba(60, 64, 67, 0.3), 0 1px 3px 1px rgba(60, 64, 67, 0.15);\n",
              "    fill: var(--button-hover-fill-color);\n",
              "  }\n",
              "\n",
              "  .colab-df-quickchart-complete:disabled,\n",
              "  .colab-df-quickchart-complete:disabled:hover {\n",
              "    background-color: var(--disabled-bg-color);\n",
              "    fill: var(--disabled-fill-color);\n",
              "    box-shadow: none;\n",
              "  }\n",
              "\n",
              "  .colab-df-spinner {\n",
              "    border: 2px solid var(--fill-color);\n",
              "    border-color: transparent;\n",
              "    border-bottom-color: var(--fill-color);\n",
              "    animation:\n",
              "      spin 1s steps(1) infinite;\n",
              "  }\n",
              "\n",
              "  @keyframes spin {\n",
              "    0% {\n",
              "      border-color: transparent;\n",
              "      border-bottom-color: var(--fill-color);\n",
              "      border-left-color: var(--fill-color);\n",
              "    }\n",
              "    20% {\n",
              "      border-color: transparent;\n",
              "      border-left-color: var(--fill-color);\n",
              "      border-top-color: var(--fill-color);\n",
              "    }\n",
              "    30% {\n",
              "      border-color: transparent;\n",
              "      border-left-color: var(--fill-color);\n",
              "      border-top-color: var(--fill-color);\n",
              "      border-right-color: var(--fill-color);\n",
              "    }\n",
              "    40% {\n",
              "      border-color: transparent;\n",
              "      border-right-color: var(--fill-color);\n",
              "      border-top-color: var(--fill-color);\n",
              "    }\n",
              "    60% {\n",
              "      border-color: transparent;\n",
              "      border-right-color: var(--fill-color);\n",
              "    }\n",
              "    80% {\n",
              "      border-color: transparent;\n",
              "      border-right-color: var(--fill-color);\n",
              "      border-bottom-color: var(--fill-color);\n",
              "    }\n",
              "    90% {\n",
              "      border-color: transparent;\n",
              "      border-bottom-color: var(--fill-color);\n",
              "    }\n",
              "  }\n",
              "</style>\n",
              "\n",
              "  <script>\n",
              "    async function quickchart(key) {\n",
              "      const quickchartButtonEl =\n",
              "        document.querySelector('#' + key + ' button');\n",
              "      quickchartButtonEl.disabled = true;  // To prevent multiple clicks.\n",
              "      quickchartButtonEl.classList.add('colab-df-spinner');\n",
              "      try {\n",
              "        const charts = await google.colab.kernel.invokeFunction(\n",
              "            'suggestCharts', [key], {});\n",
              "      } catch (error) {\n",
              "        console.error('Error during call to suggestCharts:', error);\n",
              "      }\n",
              "      quickchartButtonEl.classList.remove('colab-df-spinner');\n",
              "      quickchartButtonEl.classList.add('colab-df-quickchart-complete');\n",
              "    }\n",
              "    (() => {\n",
              "      let quickchartButtonEl =\n",
              "        document.querySelector('#df-a3a068a2-83a2-47d6-851b-380056c2526a button');\n",
              "      quickchartButtonEl.style.display =\n",
              "        google.colab.kernel.accessAllowed ? 'block' : 'none';\n",
              "    })();\n",
              "  </script>\n",
              "</div>\n",
              "    </div>\n",
              "  </div>\n"
            ]
          },
          "metadata": {},
          "execution_count": 223
        }
      ]
    },
    {
      "cell_type": "code",
      "source": [
        "df.info()"
      ],
      "metadata": {
        "colab": {
          "base_uri": "https://localhost:8080/"
        },
        "id": "2LiHju6UqocD",
        "outputId": "93468f5c-67e4-478c-b5b2-11ac1c5d6276"
      },
      "execution_count": null,
      "outputs": [
        {
          "output_type": "stream",
          "name": "stdout",
          "text": [
            "<class 'pandas.core.frame.DataFrame'>\n",
            "Int64Index: 891 entries, 1 to 891\n",
            "Data columns (total 11 columns):\n",
            " #   Column    Non-Null Count  Dtype  \n",
            "---  ------    --------------  -----  \n",
            " 0   Survived  891 non-null    int64  \n",
            " 1   Pclass    891 non-null    int64  \n",
            " 2   Name      891 non-null    object \n",
            " 3   Sex       891 non-null    object \n",
            " 4   Age       714 non-null    float64\n",
            " 5   SibSp     891 non-null    int64  \n",
            " 6   Parch     891 non-null    int64  \n",
            " 7   Ticket    891 non-null    object \n",
            " 8   Fare      891 non-null    float64\n",
            " 9   Cabin     204 non-null    object \n",
            " 10  Embarked  889 non-null    object \n",
            "dtypes: float64(2), int64(4), object(5)\n",
            "memory usage: 83.5+ KB\n"
          ]
        }
      ]
    },
    {
      "cell_type": "code",
      "source": [
        "df['Age'].isnull().sum()"
      ],
      "metadata": {
        "colab": {
          "base_uri": "https://localhost:8080/"
        },
        "id": "ekGLpCyErG-9",
        "outputId": "a6475a44-fef6-43aa-deb0-faaf49b6e4c4"
      },
      "execution_count": null,
      "outputs": [
        {
          "output_type": "execute_result",
          "data": {
            "text/plain": [
              "177"
            ]
          },
          "metadata": {},
          "execution_count": 225
        }
      ]
    },
    {
      "cell_type": "code",
      "source": [
        "median=df['Age'].median()\n",
        "print('Median:',median)\n",
        "mode=df['Age'].mode()[0]\n",
        "print('Mode:',mode)\n",
        "var=df['Age'].var()\n",
        "print('Variance:',var)\n",
        "std=df['Age'].std()\n",
        "print('Standard deviation:',std)"
      ],
      "metadata": {
        "colab": {
          "base_uri": "https://localhost:8080/"
        },
        "id": "2DPWtlbwrLWI",
        "outputId": "2a5b0375-1253-4c22-c686-0ff897693440"
      },
      "execution_count": null,
      "outputs": [
        {
          "output_type": "stream",
          "name": "stdout",
          "text": [
            "Median: 28.0\n",
            "Mode: 24.0\n",
            "Variance: 211.01912474630802\n",
            "Standard deviation: 14.526497332334042\n"
          ]
        }
      ]
    },
    {
      "cell_type": "code",
      "source": [
        "median=df['Fare'].median()\n",
        "print('Median:',median)\n",
        "mode=df['Fare'].mode()[0]\n",
        "print('Mode:',mode)\n",
        "var=df['Fare'].var()\n",
        "print('Variance:',var)\n",
        "std=df['Fare'].std()\n",
        "print('Standard deviation:',std)"
      ],
      "metadata": {
        "colab": {
          "base_uri": "https://localhost:8080/"
        },
        "id": "5vz0ex94rOOR",
        "outputId": "e2f12745-6a44-49e1-dae0-9879eb283afd"
      },
      "execution_count": null,
      "outputs": [
        {
          "output_type": "stream",
          "name": "stdout",
          "text": [
            "Median: 14.4542\n",
            "Mode: 8.05\n",
            "Variance: 2469.436845743116\n",
            "Standard deviation: 49.6934285971809\n"
          ]
        }
      ]
    },
    {
      "cell_type": "code",
      "source": [
        "median=df['SibSp'].median()\n",
        "print('Median:',median)\n",
        "mode=df['SibSp'].mode()[0]\n",
        "print('Mode:',mode)\n",
        "var=df['SibSp'].var()\n",
        "print('Variance:',var)\n",
        "std=df['SibSp'].std()\n",
        "print('Standard deviation:',std)"
      ],
      "metadata": {
        "colab": {
          "base_uri": "https://localhost:8080/"
        },
        "id": "uz3aRRa2rV6-",
        "outputId": "1852d990-897e-4b68-d672-c25ceef36bee"
      },
      "execution_count": null,
      "outputs": [
        {
          "output_type": "stream",
          "name": "stdout",
          "text": [
            "Median: 0.0\n",
            "Mode: 0\n",
            "Variance: 1.2160430774662985\n",
            "Standard deviation: 1.1027434322934317\n"
          ]
        }
      ]
    },
    {
      "cell_type": "code",
      "source": [
        "median=df['Parch'].median()\n",
        "print('Median:',median)\n",
        "mode=df['Parch'].mode()[0]\n",
        "print('Mode:',mode)\n",
        "var=df['Parch'].var()\n",
        "print('Variance:',var)\n",
        "std=df['Parch'].std()\n",
        "print('Standard deviation:',std)"
      ],
      "metadata": {
        "colab": {
          "base_uri": "https://localhost:8080/"
        },
        "id": "CeWLB0tSrcTl",
        "outputId": "99454d1d-0c09-474a-ef10-1ef8c7c53ccb"
      },
      "execution_count": null,
      "outputs": [
        {
          "output_type": "stream",
          "name": "stdout",
          "text": [
            "Median: 0.0\n",
            "Mode: 0\n",
            "Variance: 0.6497282437357343\n",
            "Standard deviation: 0.8060572211299483\n"
          ]
        }
      ]
    },
    {
      "cell_type": "code",
      "source": [
        "# calculate IQR\n",
        "Q1 = df['Age'].quantile(0.25)\n",
        "Q3 = df['Age'].quantile(0.75)\n",
        "IQR = Q3 - Q1\n",
        "# identify outliers\n",
        "threshold = 1.5\n",
        "outliers = df[(df['Age'] < Q1 - threshold * IQR) | (df['Age'] > Q3 + threshold * IQR)]\n",
        "print(outliers['Age'])\n",
        "print(len(outliers['Age']))"
      ],
      "metadata": {
        "colab": {
          "base_uri": "https://localhost:8080/"
        },
        "id": "xMBoRTwVsz_v",
        "outputId": "906a1ade-6b92-4f68-860c-1b600ff548ab"
      },
      "execution_count": null,
      "outputs": [
        {
          "output_type": "stream",
          "name": "stdout",
          "text": [
            "PassengerId\n",
            "34     66.0\n",
            "55     65.0\n",
            "97     71.0\n",
            "117    70.5\n",
            "281    65.0\n",
            "457    65.0\n",
            "494    71.0\n",
            "631    80.0\n",
            "673    70.0\n",
            "746    70.0\n",
            "852    74.0\n",
            "Name: Age, dtype: float64\n",
            "11\n"
          ]
        }
      ]
    },
    {
      "cell_type": "code",
      "source": [
        "# calculate IQR\n",
        "Q1 = df['Fare'].quantile(0.25)\n",
        "Q3 = df['Fare'].quantile(0.75)\n",
        "IQR = Q3 - Q1\n",
        "# identify outliers\n",
        "threshold = 1.5\n",
        "outliers = df[(df['Fare'] < Q1 - threshold * IQR) | (df['Fare'] > Q3 + threshold * IQR)]\n",
        "print(outliers['Fare'])\n",
        "print(len(outliers['Fare']))"
      ],
      "metadata": {
        "colab": {
          "base_uri": "https://localhost:8080/"
        },
        "id": "gs09bIrytOEi",
        "outputId": "3c3058c9-d1a9-4a61-d8da-fed66b820fcf"
      },
      "execution_count": null,
      "outputs": [
        {
          "output_type": "stream",
          "name": "stdout",
          "text": [
            "PassengerId\n",
            "2       71.2833\n",
            "28     263.0000\n",
            "32     146.5208\n",
            "35      82.1708\n",
            "53      76.7292\n",
            "         ...   \n",
            "847     69.5500\n",
            "850     89.1042\n",
            "857    164.8667\n",
            "864     69.5500\n",
            "880     83.1583\n",
            "Name: Fare, Length: 116, dtype: float64\n",
            "116\n"
          ]
        }
      ]
    },
    {
      "cell_type": "code",
      "source": [
        "# calculate IQR\n",
        "Q1 = df['SibSp'].quantile(0.25)\n",
        "Q3 = df['SibSp'].quantile(0.75)\n",
        "IQR = Q3 - Q1\n",
        "# identify outliers\n",
        "threshold = 1.5\n",
        "outliers = df[(df['SibSp'] < Q1 - threshold * IQR) | (df['SibSp'] > Q3 + threshold * IQR)]\n",
        "print(outliers['SibSp'])\n",
        "print(len(outliers['SibSp']))"
      ],
      "metadata": {
        "colab": {
          "base_uri": "https://localhost:8080/"
        },
        "id": "Po-mG4JdtcLU",
        "outputId": "af189651-4a4f-4bf3-ad09-f4374735dc1a"
      },
      "execution_count": null,
      "outputs": [
        {
          "output_type": "stream",
          "name": "stdout",
          "text": [
            "PassengerId\n",
            "8      3\n",
            "17     4\n",
            "25     3\n",
            "28     3\n",
            "51     4\n",
            "60     5\n",
            "64     3\n",
            "69     4\n",
            "72     5\n",
            "86     3\n",
            "89     3\n",
            "120    4\n",
            "160    8\n",
            "165    4\n",
            "172    4\n",
            "177    3\n",
            "181    8\n",
            "183    4\n",
            "202    8\n",
            "230    3\n",
            "234    4\n",
            "262    4\n",
            "267    4\n",
            "279    4\n",
            "325    8\n",
            "342    3\n",
            "375    3\n",
            "387    5\n",
            "410    3\n",
            "481    5\n",
            "486    3\n",
            "542    4\n",
            "543    4\n",
            "635    3\n",
            "643    3\n",
            "684    5\n",
            "687    4\n",
            "727    3\n",
            "788    4\n",
            "793    8\n",
            "814    4\n",
            "820    3\n",
            "825    4\n",
            "847    8\n",
            "851    4\n",
            "864    8\n",
            "Name: SibSp, dtype: int64\n",
            "46\n"
          ]
        }
      ]
    },
    {
      "cell_type": "code",
      "source": [
        "# calculate IQR\n",
        "Q1 = df['Parch'].quantile(0.25)\n",
        "Q3 = df['Parch'].quantile(0.75)\n",
        "IQR = Q3 - Q1\n",
        "# identify outliers\n",
        "threshold = 1.5\n",
        "outliers = df[(df['Parch'] < Q1 - threshold * IQR) | (df['Parch'] > Q3 + threshold * IQR)]\n",
        "print(outliers['Parch'])"
      ],
      "metadata": {
        "colab": {
          "base_uri": "https://localhost:8080/"
        },
        "id": "rjYk9OfiaVFh",
        "outputId": "3f5fbd70-2899-4ddc-cc15-65b66cbf9285"
      },
      "execution_count": null,
      "outputs": [
        {
          "output_type": "stream",
          "name": "stdout",
          "text": [
            "PassengerId\n",
            "8      1\n",
            "9      2\n",
            "11     1\n",
            "14     5\n",
            "17     1\n",
            "      ..\n",
            "872    1\n",
            "880    1\n",
            "881    1\n",
            "886    5\n",
            "889    2\n",
            "Name: Parch, Length: 213, dtype: int64\n"
          ]
        }
      ]
    },
    {
      "cell_type": "markdown",
      "source": [
        "### Q2 HISTOGRAMS"
      ],
      "metadata": {
        "id": "enW1bnnUWcSM"
      }
    },
    {
      "cell_type": "code",
      "source": [
        "plt.hist(df['Age'],color='green',edgecolor='black')\n",
        "plt.xlabel('Age')\n",
        "plt.ylabel('Frequency')\n",
        "plt.title('Histogram for Age')\n",
        "plt.show()"
      ],
      "metadata": {
        "colab": {
          "base_uri": "https://localhost:8080/",
          "height": 472
        },
        "id": "VcoqsnEItm2c",
        "outputId": "7a6795ff-70b6-47a3-c535-3cbe70af3fdf"
      },
      "execution_count": null,
      "outputs": [
        {
          "output_type": "display_data",
          "data": {
            "text/plain": [
              "<Figure size 640x480 with 1 Axes>"
            ],
            "image/png": "[encoded data removed]"
          },
          "metadata": {}
        }
      ]
    },
    {
      "cell_type": "code",
      "source": [
        "plt.hist(df['Fare'],color='green',edgecolor='black')\n",
        "plt.xlabel('Fare')\n",
        "plt.ylabel('Frequency')\n",
        "plt.title('Histogram for Fare')\n",
        "plt.show()"
      ],
      "metadata": {
        "colab": {
          "base_uri": "https://localhost:8080/",
          "height": 472
        },
        "id": "MSz7KNk3t4Cu",
        "outputId": "3c5ba970-3819-44b6-fb99-00e5fd035d33"
      },
      "execution_count": null,
      "outputs": [
        {
          "output_type": "display_data",
          "data": {
            "text/plain": [
              "<Figure size 640x480 with 1 Axes>"
            ],
            "image/png": "[encoded data removed]"
          },
          "metadata": {}
        }
      ]
    },
    {
      "cell_type": "code",
      "source": [
        "plt.hist(df['SibSp'],color='green',edgecolor='black')\n",
        "plt.xlabel('Siblings/Spouse')\n",
        "plt.ylabel('Frequency')\n",
        "plt.title('Histogram for Siblings/Spouse')\n",
        "plt.show()"
      ],
      "metadata": {
        "colab": {
          "base_uri": "https://localhost:8080/",
          "height": 472
        },
        "id": "iQn1tVVbuCEk",
        "outputId": "741d1e41-45f7-48ec-baba-22c69b9546bd"
      },
      "execution_count": null,
      "outputs": [
        {
          "output_type": "display_data",
          "data": {
            "text/plain": [
              "<Figure size 640x480 with 1 Axes>"
            ],
            "image/png": "[encoded data removed]"
          },
          "metadata": {}
        }
      ]
    },
    {
      "cell_type": "code",
      "source": [
        "plt.hist(df['Survived'],color='green',edgecolor='black',bins=[0,1,2],rwidth=0.8)\n",
        "plt.xticks([0, 1])\n",
        "plt.xlabel('Survived')\n",
        "plt.ylabel('Frequency')\n",
        "plt.title('Histogram for Survived')\n",
        "plt.show()"
      ],
      "metadata": {
        "colab": {
          "base_uri": "https://localhost:8080/",
          "height": 472
        },
        "id": "n5p0vQUUuMW6",
        "outputId": "41894c6d-b8ea-4dcf-c6b5-c372905653d9"
      },
      "execution_count": null,
      "outputs": [
        {
          "output_type": "display_data",
          "data": {
            "text/plain": [
              "<Figure size 640x480 with 1 Axes>"
            ],
            "image/png": "[encoded data removed]"
          },
          "metadata": {}
        }
      ]
    },
    {
      "cell_type": "code",
      "source": [
        "plt.hist(df['Parch'],color='green',edgecolor='black')\n",
        "plt.xlabel('Parch')\n",
        "plt.ylabel('Frequency')\n",
        "plt.title('Histogram for Parch')\n",
        "plt.show()"
      ],
      "metadata": {
        "colab": {
          "base_uri": "https://localhost:8080/",
          "height": 472
        },
        "id": "6PmCfv7jGfuI",
        "outputId": "27a013e6-5f5f-4c9d-e2e5-23824064d5eb"
      },
      "execution_count": null,
      "outputs": [
        {
          "output_type": "display_data",
          "data": {
            "text/plain": [
              "<Figure size 640x480 with 1 Axes>"
            ],
            "image/png": "[encoded data removed]"
          },
          "metadata": {}
        }
      ]
    },
    {
      "cell_type": "markdown",
      "source": [
        "### Q3 MISSING VALUES"
      ],
      "metadata": {
        "id": "dbC1SwaIWLQn"
      }
    },
    {
      "cell_type": "code",
      "source": [
        "#filling the missing values of age\n",
        "mean_age = df['Age'].mean()\n",
        "df['Age'].fillna(mean_age, inplace=True)"
      ],
      "metadata": {
        "id": "W5dLasoNcv09"
      },
      "execution_count": null,
      "outputs": []
    },
    {
      "cell_type": "code",
      "source": [
        "df['Age'].isnull().sum()"
      ],
      "metadata": {
        "colab": {
          "base_uri": "https://localhost:8080/"
        },
        "id": "AyOYuz7rh7xE",
        "outputId": "4e8824b8-4ec0-47d4-b1af-2973571be712"
      },
      "execution_count": null,
      "outputs": [
        {
          "output_type": "execute_result",
          "data": {
            "text/plain": [
              "0"
            ]
          },
          "metadata": {},
          "execution_count": 240
        }
      ]
    },
    {
      "cell_type": "code",
      "source": [
        "#histogram of age after filling null values with mean values\n",
        "plt.hist(df['Age'],color='green',edgecolor='black')\n",
        "plt.xlabel('Age')\n",
        "plt.ylabel('Frequency')\n",
        "plt.title('Histogram for Age')\n",
        "plt.show()"
      ],
      "metadata": {
        "colab": {
          "base_uri": "https://localhost:8080/",
          "height": 472
        },
        "id": "SV5JRkETiD60",
        "outputId": "67320801-5961-4591-b8cc-46dc2f6e7fb7"
      },
      "execution_count": null,
      "outputs": [
        {
          "output_type": "display_data",
          "data": {
            "text/plain": [
              "<Figure size 640x480 with 1 Axes>"
            ],
            "image/png": "[encoded data removed]"
          },
          "metadata": {}
        }
      ]
    },
    {
      "cell_type": "markdown",
      "source": [
        "### Q4 OUTLIERS"
      ],
      "metadata": {
        "id": "hXWHanbOU1jV"
      }
    },
    {
      "cell_type": "code",
      "source": [
        "Q1 = df['Age'].quantile(0.25)\n",
        "Q3 = df['Age'].quantile(0.75)\n",
        "IQR = Q3 - Q1\n",
        "# identify outliers\n",
        "threshold = 1.5\n",
        "outliers = df[(df['Age'] < Q1 - threshold * IQR) | (df['Age'] > Q3 + threshold * IQR)]\n",
        "mean_value=df['Age'].mean()\n",
        "df.loc[df['Age'].isin(outliers['Age']), 'Age'] = mean_value\n",
        "outliers = df[(df['Age'] < Q1 - threshold * IQR) | (df['Age'] > Q3 + threshold * IQR)]\n",
        "print(\"Outliers after smoothing them: \")\n",
        "print(outliers['Age'])\n",
        "print(len(outliers['Age']))"
      ],
      "metadata": {
        "colab": {
          "base_uri": "https://localhost:8080/"
        },
        "id": "EvPmCuZRU-tH",
        "outputId": "206e37d7-c63f-4da9-fe45-bc12b8ee0d27"
      },
      "execution_count": null,
      "outputs": [
        {
          "output_type": "stream",
          "name": "stdout",
          "text": [
            "Outliers after smoothing them: \n",
            "Series([], Name: Age, dtype: float64)\n",
            "0\n"
          ]
        }
      ]
    },
    {
      "cell_type": "code",
      "source": [
        "\n",
        "Q1 = df['SibSp'].quantile(0.25)\n",
        "Q3 = df['SibSp'].quantile(0.75)\n",
        "IQR = Q3 - Q1\n",
        "threshold = 1.5\n",
        "outliers = df[(df['SibSp'] < Q1 - threshold * IQR) | (df['SibSp'] > Q3 + threshold * IQR)]\n",
        "mean_value=df['SibSp'].mean()\n",
        "df.loc[df['SibSp'].isin(outliers['SibSp']), 'SibSp'] = mean_value\n",
        "outliers = df[(df['SibSp'] < Q1 - threshold * IQR) | (df['SibSp'] > Q3 + threshold * IQR)]\n",
        "print(\"Outliers after smoothing them: \")\n",
        "print(outliers['SibSp'])\n",
        "print(len(outliers['SibSp']))"
      ],
      "metadata": {
        "colab": {
          "base_uri": "https://localhost:8080/"
        },
        "id": "Qoueu2kdVCm_",
        "outputId": "eb3c4fd3-1d1c-4a1c-b012-5e2541239437"
      },
      "execution_count": null,
      "outputs": [
        {
          "output_type": "stream",
          "name": "stdout",
          "text": [
            "Outliers after smoothing them: \n",
            "Series([], Name: SibSp, dtype: float64)\n",
            "0\n"
          ]
        }
      ]
    },
    {
      "cell_type": "code",
      "source": [
        "Q1 = df['Fare'].quantile(0.25)\n",
        "Q3 = df['Fare'].quantile(0.75)\n",
        "IQR = Q3 - Q1\n",
        "# identify outliers\n",
        "threshold = 1.5\n",
        "outliers = df[(df['Fare'] < Q1 - threshold * IQR) | (df['Fare'] > Q3 + threshold * IQR)]\n",
        "print(\"Rows dropped after smoothing:\")\n",
        "df_clean = df[~df.index.isin(outliers['Fare'].index)]\n",
        "print(len(df_clean))"
      ],
      "metadata": {
        "colab": {
          "base_uri": "https://localhost:8080/"
        },
        "id": "Zka_tlrCVCwd",
        "outputId": "60a20bf9-b345-432e-e072-df798319f5f8"
      },
      "execution_count": null,
      "outputs": [
        {
          "output_type": "stream",
          "name": "stdout",
          "text": [
            "Rows dropped after smoothing:\n",
            "775\n"
          ]
        }
      ]
    },
    {
      "cell_type": "code",
      "source": [
        "Q1 = df['Parch'].quantile(0.25)\n",
        "Q3 = df['Parch'].quantile(0.75)\n",
        "IQR = Q3 - Q1\n",
        "# identify outliers\n",
        "threshold = 1.5\n",
        "outliers = df[(df['Parch'] < Q1 - threshold * IQR) | (df['Parch'] > Q3 + threshold * IQR)]\n",
        "print(\"Rows dropped after smoothing:\")\n",
        "df_clean = df[~df.index.isin(outliers['Parch'].index)]\n",
        "print(len(df_clean))"
      ],
      "metadata": {
        "colab": {
          "base_uri": "https://localhost:8080/"
        },
        "id": "JfddudsKVC64",
        "outputId": "7bab39b0-d226-43e7-8626-8f65e01e5559"
      },
      "execution_count": null,
      "outputs": [
        {
          "output_type": "stream",
          "name": "stdout",
          "text": [
            "Rows dropped after smoothing:\n",
            "678\n"
          ]
        }
      ]
    },
    {
      "cell_type": "code",
      "source": [],
      "metadata": {
        "id": "9jjFmNqtX7nx"
      },
      "execution_count": null,
      "outputs": []
    }
  ]
}